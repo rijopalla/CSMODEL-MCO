{
 "cells": [
  {
   "cell_type": "markdown",
   "id": "ae990f0b",
   "metadata": {},
   "source": [
    "# CSMODEL MCO1\n",
    "\n",
    "### Group 9:\n",
    "### Nieva, Samuel\n",
    "### Opalla, Rijan\n",
    "### Quinzon, Christopher\n"
   ]
  },
  {
   "cell_type": "markdown",
   "id": "6eb880eb",
   "metadata": {},
   "source": [
    "## I. Dataset Description"
   ]
  },
  {
   "cell_type": "markdown",
   "id": "9ad395ae",
   "metadata": {},
   "source": [
    "The dataset acquired covers the possible key indicators of heart disease among US citizens. The dataset is a public online resource available on Kaggle.com and was acquired from the Center for Disease Control and Prevention (CDC), a government organization of the United States taking part in the Behavioral Risk Factor Surveillance System (BRFSS). The data was acquired observationally as there was no form of treatment applied to the respondents. The collection was done via an annual telephone survey in all 50 states plus the District of Columbia and three more U.S. territories. Moreso, the dataset contains 319,795 rows and 18 columns with each row representing an observation of a person and the columns representing the responses of the individual to different questions about their health status. The answers of the respondents are valued as 9 booleans, 5 strings, and 4 decimals. No other external files are combined with the single file for this machine project. "
   ]
  },
  {
   "cell_type": "markdown",
   "id": "c560f43f",
   "metadata": {},
   "source": [
    "## Variables"
   ]
  },
  {
   "cell_type": "markdown",
   "id": "7d4f2473",
   "metadata": {},
   "source": [
    "### Boolean Variables\n",
    "As mentioned earlier, the dataset contains 9 boolean variables. All of which answer a specific question and contain the values `Yes` and `No`, or both of the previous answers, given special conditions as is the case with `Diabetic`."
   ]
  },
  {
   "cell_type": "markdown",
   "id": "4b687ef5-91be-4a6c-8c99-9103198382e1",
   "metadata": {},
   "source": [
    "#### Heart Disease"
   ]
  },
  {
   "cell_type": "markdown",
   "id": "ab965e66-77dd-4311-95ec-b4008d268dfc",
   "metadata": {},
   "source": [
    "The variable captures the responses of respondents that have ever reported having coronary heart disease (CHD) or myocardial infarction (MI)."
   ]
  },
  {
   "cell_type": "markdown",
   "id": "ef352b01-d8f9-45ca-932e-edd8ff44958c",
   "metadata": {},
   "source": [
    "#### Smoking"
   ]
  },
  {
   "cell_type": "markdown",
   "id": "07e214b1-b9ff-4bde-af87-39bf554355a7",
   "metadata": {},
   "source": [
    "The variable describes this as whether or not: \"Respondents have smoked at least 100 cigarettes in their lives\". The dataset notes that 5 packs of cigarettes is equivalent to 100 cigarettes."
   ]
  },
  {
   "cell_type": "markdown",
   "id": "fd7eb5b2",
   "metadata": {},
   "source": [
    "#### AlcoholDrinking"
   ]
  },
  {
   "cell_type": "markdown",
   "id": "141c453b",
   "metadata": {},
   "source": [
    "This variable asks respondents whether or not they were heavy drinkers, described as adult men having more than 14 drinks per week and adult women having more than 7 drinks per week."
   ]
  },
  {
   "cell_type": "markdown",
   "id": "9acd7c19",
   "metadata": {},
   "source": [
    "#### Stroke"
   ]
  },
  {
   "cell_type": "markdown",
   "id": "432ffe59",
   "metadata": {},
   "source": [
    "The variable contains the observations to the question \"Have you ever had/Were you ever told you had a stroke?\""
   ]
  },
  {
   "cell_type": "markdown",
   "id": "90b630f1",
   "metadata": {},
   "source": [
    "#### DiffWalking"
   ]
  },
  {
   "cell_type": "markdown",
   "id": "2c0a58d8",
   "metadata": {},
   "source": [
    "The variable asks whether or not respondents have a serious difficulty walking or climbing stairs."
   ]
  },
  {
   "cell_type": "markdown",
   "id": "78941d93",
   "metadata": {},
   "source": [
    "#### PhysicalActivity"
   ]
  },
  {
   "cell_type": "markdown",
   "id": "f2cdf679",
   "metadata": {},
   "source": [
    "The variable describes this as adults who reported doing physical activity or exercise during the past 30 days other than their regular job."
   ]
  },
  {
   "cell_type": "markdown",
   "id": "c3f71b8b",
   "metadata": {},
   "source": [
    "#### Asthma"
   ]
  },
  {
   "cell_type": "markdown",
   "id": "e3ba95d1",
   "metadata": {},
   "source": [
    "The variable describes this as whether or not respondents have asthma"
   ]
  },
  {
   "cell_type": "markdown",
   "id": "e82644b5",
   "metadata": {},
   "source": [
    "#### KidneyDisease"
   ]
  },
  {
   "cell_type": "markdown",
   "id": "a8d03bbe",
   "metadata": {},
   "source": [
    "The variable describes this as whether or not respondents ever had kidney disease excluding kidney stones, bladder infection, or incontinence."
   ]
  },
  {
   "cell_type": "markdown",
   "id": "50624aca",
   "metadata": {},
   "source": [
    "#### SkinCancer"
   ]
  },
  {
   "cell_type": "markdown",
   "id": "5c5b4b33",
   "metadata": {},
   "source": [
    "The variable describes this as whether or not respondents ever had skin cancer."
   ]
  },
  {
   "cell_type": "markdown",
   "id": "6f3c467b",
   "metadata": {},
   "source": [
    "### String Variables\n",
    "The following are the description of the  variables that contain strings."
   ]
  },
  {
   "cell_type": "markdown",
   "id": "76b60afe",
   "metadata": {},
   "source": [
    "#### Sex"
   ]
  },
  {
   "cell_type": "markdown",
   "id": "34d2f36c",
   "metadata": {},
   "source": [
    "The variable contains the respondent's sex."
   ]
  },
  {
   "cell_type": "markdown",
   "id": "d717692f",
   "metadata": {},
   "source": [
    "#### Race"
   ]
  },
  {
   "cell_type": "markdown",
   "id": "b3fd7f62",
   "metadata": {},
   "source": [
    "The variable contains the respondent's ethnicity and imputed race/ethnicity value."
   ]
  },
  {
   "cell_type": "markdown",
   "id": "1cb71c8b",
   "metadata": {},
   "source": [
    "#### GenHealth"
   ]
  },
  {
   "cell_type": "markdown",
   "id": "2db35edb",
   "metadata": {},
   "source": [
    "The variable contains the answer to the question \"Would you say that your health is Very Good, Good, Fair, Poor\"?"
   ]
  },
  {
   "cell_type": "markdown",
   "id": "5a4f5d7a-3fa8-4791-85cb-e0742db015d3",
   "metadata": {},
   "source": [
    "#### Diabetic"
   ]
  },
  {
   "cell_type": "markdown",
   "id": "a46b9f00-f08b-4997-8fba-4c400fb331ee",
   "metadata": {},
   "source": [
    "The variable describes this as whether or not the respondents have diabetes.\n",
    "\n",
    "It has four unique values: `Yes`, `No`, `Yes (during pregnancy)`, and `No, borderline diabetes`, which means that the respondent has Type 2 or Prediabetes."
   ]
  },
  {
   "cell_type": "markdown",
   "id": "bed44516",
   "metadata": {},
   "source": [
    "#### AgeCategory"
   ]
  },
  {
   "cell_type": "markdown",
   "id": "06d5922a",
   "metadata": {},
   "source": [
    "This variable contains the respondent's age category. The variable contains a fourteen-level age category starting from `18-24` to `80 or older`."
   ]
  },
  {
   "cell_type": "markdown",
   "id": "33aa35b1",
   "metadata": {},
   "source": [
    "### Decimal Variables\n",
    "The following are the description of the  variables that contain decimals."
   ]
  },
  {
   "cell_type": "markdown",
   "id": "ef414962-8574-4441-bfb8-edf1edbf12a4",
   "metadata": {},
   "source": [
    "#### BMI"
   ]
  },
  {
   "cell_type": "markdown",
   "id": "2157506b-4471-4d4c-bd87-d2da558a269c",
   "metadata": {},
   "source": [
    "The variable describes this as the respondents \"BMI\". BMI or Body Mass Index is a numerical value derived from a person's height and weight and is used to measure a person's body fat.\n",
    "\n",
    "Its value is the numerical value of the respondent's BMI."
   ]
  },
  {
   "cell_type": "markdown",
   "id": "0d72b7d0",
   "metadata": {},
   "source": [
    "#### SleepTime"
   ]
  },
  {
   "cell_type": "markdown",
   "id": "930d64f8",
   "metadata": {},
   "source": [
    "The variable answers the question \"On average, how many hours of sleep do you get in a 24-hour period?\"\n",
    "\n",
    "Each observation shows the respondent's average sleep time."
   ]
  },
  {
   "cell_type": "markdown",
   "id": "bbe69df5",
   "metadata": {},
   "source": [
    "#### PhysicalHealth"
   ]
  },
  {
   "cell_type": "markdown",
   "id": "ae2b7de8",
   "metadata": {},
   "source": [
    "The variable contains the answer to the question: \"Now thinking about your mental health, for how many days during the past 30 days was your physical health not good?\" \n",
    "Its value represents the number of days, which answers the question."
   ]
  },
  {
   "cell_type": "markdown",
   "id": "816ca5f3",
   "metadata": {},
   "source": [
    "#### MentalHealth"
   ]
  },
  {
   "cell_type": "markdown",
   "id": "8c81a994",
   "metadata": {},
   "source": [
    "The variable contains the answer to the question: \"Thinking about your mental health, for how many days during the past 30 days was your mental health not good?\" \n",
    "Its value represents the number of days, which answers the question."
   ]
  },
  {
   "cell_type": "markdown",
   "id": "3a10926f",
   "metadata": {},
   "source": [
    "## II. Data Cleaning\n",
    "The following code blocks are for importing the necessary libraries as well as the dataset needed."
   ]
  },
  {
   "cell_type": "code",
   "execution_count": 32,
   "id": "f4667d1f",
   "metadata": {},
   "outputs": [],
   "source": [
    "import numpy as np\n",
    "import pandas as pd\n",
    "from scipy.stats import chi2_contingency"
   ]
  },
  {
   "cell_type": "code",
   "execution_count": 33,
   "id": "4a675ca3",
   "metadata": {},
   "outputs": [],
   "source": [
    "heart_df = pd.read_csv(\"heart_2020_cleaned.csv\")"
   ]
  },
  {
   "cell_type": "markdown",
   "id": "f9203df0",
   "metadata": {},
   "source": [
    "The next segment displays general information within the dataset and the datatypes of the various features."
   ]
  },
  {
   "cell_type": "code",
   "execution_count": 34,
   "id": "c611a421",
   "metadata": {},
   "outputs": [
    {
     "name": "stdout",
     "output_type": "stream",
     "text": [
      "<class 'pandas.core.frame.DataFrame'>\n",
      "RangeIndex: 319795 entries, 0 to 319794\n",
      "Data columns (total 18 columns):\n",
      " #   Column            Non-Null Count   Dtype  \n",
      "---  ------            --------------   -----  \n",
      " 0   HeartDisease      319795 non-null  object \n",
      " 1   BMI               319795 non-null  float64\n",
      " 2   Smoking           319795 non-null  object \n",
      " 3   AlcoholDrinking   319795 non-null  object \n",
      " 4   Stroke            319795 non-null  object \n",
      " 5   PhysicalHealth    319795 non-null  float64\n",
      " 6   MentalHealth      319795 non-null  float64\n",
      " 7   DiffWalking       319795 non-null  object \n",
      " 8   Sex               319795 non-null  object \n",
      " 9   AgeCategory       319795 non-null  object \n",
      " 10  Race              319795 non-null  object \n",
      " 11  Diabetic          319795 non-null  object \n",
      " 12  PhysicalActivity  319795 non-null  object \n",
      " 13  GenHealth         319795 non-null  object \n",
      " 14  SleepTime         319795 non-null  float64\n",
      " 15  Asthma            319795 non-null  object \n",
      " 16  KidneyDisease     319795 non-null  object \n",
      " 17  SkinCancer        319795 non-null  object \n",
      "dtypes: float64(4), object(14)\n",
      "memory usage: 43.9+ MB\n"
     ]
    }
   ],
   "source": [
    "heart_df.info()"
   ]
  },
  {
   "cell_type": "code",
   "execution_count": 35,
   "id": "355ca6ab",
   "metadata": {},
   "outputs": [
    {
     "data": {
      "text/html": [
       "<div>\n",
       "<style scoped>\n",
       "    .dataframe tbody tr th:only-of-type {\n",
       "        vertical-align: middle;\n",
       "    }\n",
       "\n",
       "    .dataframe tbody tr th {\n",
       "        vertical-align: top;\n",
       "    }\n",
       "\n",
       "    .dataframe thead th {\n",
       "        text-align: right;\n",
       "    }\n",
       "</style>\n",
       "<table border=\"1\" class=\"dataframe\">\n",
       "  <thead>\n",
       "    <tr style=\"text-align: right;\">\n",
       "      <th></th>\n",
       "      <th>HeartDisease</th>\n",
       "      <th>BMI</th>\n",
       "      <th>Smoking</th>\n",
       "      <th>AlcoholDrinking</th>\n",
       "      <th>Stroke</th>\n",
       "      <th>PhysicalHealth</th>\n",
       "      <th>MentalHealth</th>\n",
       "      <th>DiffWalking</th>\n",
       "      <th>Sex</th>\n",
       "      <th>AgeCategory</th>\n",
       "      <th>Race</th>\n",
       "      <th>Diabetic</th>\n",
       "      <th>PhysicalActivity</th>\n",
       "      <th>GenHealth</th>\n",
       "      <th>SleepTime</th>\n",
       "      <th>Asthma</th>\n",
       "      <th>KidneyDisease</th>\n",
       "      <th>SkinCancer</th>\n",
       "    </tr>\n",
       "  </thead>\n",
       "  <tbody>\n",
       "    <tr>\n",
       "      <th>0</th>\n",
       "      <td>No</td>\n",
       "      <td>16.60</td>\n",
       "      <td>Yes</td>\n",
       "      <td>No</td>\n",
       "      <td>No</td>\n",
       "      <td>3.0</td>\n",
       "      <td>30.0</td>\n",
       "      <td>No</td>\n",
       "      <td>Female</td>\n",
       "      <td>55-59</td>\n",
       "      <td>White</td>\n",
       "      <td>Yes</td>\n",
       "      <td>Yes</td>\n",
       "      <td>Very good</td>\n",
       "      <td>5.0</td>\n",
       "      <td>Yes</td>\n",
       "      <td>No</td>\n",
       "      <td>Yes</td>\n",
       "    </tr>\n",
       "    <tr>\n",
       "      <th>1</th>\n",
       "      <td>No</td>\n",
       "      <td>20.34</td>\n",
       "      <td>No</td>\n",
       "      <td>No</td>\n",
       "      <td>Yes</td>\n",
       "      <td>0.0</td>\n",
       "      <td>0.0</td>\n",
       "      <td>No</td>\n",
       "      <td>Female</td>\n",
       "      <td>80 or older</td>\n",
       "      <td>White</td>\n",
       "      <td>No</td>\n",
       "      <td>Yes</td>\n",
       "      <td>Very good</td>\n",
       "      <td>7.0</td>\n",
       "      <td>No</td>\n",
       "      <td>No</td>\n",
       "      <td>No</td>\n",
       "    </tr>\n",
       "    <tr>\n",
       "      <th>2</th>\n",
       "      <td>No</td>\n",
       "      <td>26.58</td>\n",
       "      <td>Yes</td>\n",
       "      <td>No</td>\n",
       "      <td>No</td>\n",
       "      <td>20.0</td>\n",
       "      <td>30.0</td>\n",
       "      <td>No</td>\n",
       "      <td>Male</td>\n",
       "      <td>65-69</td>\n",
       "      <td>White</td>\n",
       "      <td>Yes</td>\n",
       "      <td>Yes</td>\n",
       "      <td>Fair</td>\n",
       "      <td>8.0</td>\n",
       "      <td>Yes</td>\n",
       "      <td>No</td>\n",
       "      <td>No</td>\n",
       "    </tr>\n",
       "    <tr>\n",
       "      <th>3</th>\n",
       "      <td>No</td>\n",
       "      <td>24.21</td>\n",
       "      <td>No</td>\n",
       "      <td>No</td>\n",
       "      <td>No</td>\n",
       "      <td>0.0</td>\n",
       "      <td>0.0</td>\n",
       "      <td>No</td>\n",
       "      <td>Female</td>\n",
       "      <td>75-79</td>\n",
       "      <td>White</td>\n",
       "      <td>No</td>\n",
       "      <td>No</td>\n",
       "      <td>Good</td>\n",
       "      <td>6.0</td>\n",
       "      <td>No</td>\n",
       "      <td>No</td>\n",
       "      <td>Yes</td>\n",
       "    </tr>\n",
       "    <tr>\n",
       "      <th>4</th>\n",
       "      <td>No</td>\n",
       "      <td>23.71</td>\n",
       "      <td>No</td>\n",
       "      <td>No</td>\n",
       "      <td>No</td>\n",
       "      <td>28.0</td>\n",
       "      <td>0.0</td>\n",
       "      <td>Yes</td>\n",
       "      <td>Female</td>\n",
       "      <td>40-44</td>\n",
       "      <td>White</td>\n",
       "      <td>No</td>\n",
       "      <td>Yes</td>\n",
       "      <td>Very good</td>\n",
       "      <td>8.0</td>\n",
       "      <td>No</td>\n",
       "      <td>No</td>\n",
       "      <td>No</td>\n",
       "    </tr>\n",
       "  </tbody>\n",
       "</table>\n",
       "</div>"
      ],
      "text/plain": [
       "  HeartDisease    BMI Smoking AlcoholDrinking Stroke  PhysicalHealth  \\\n",
       "0           No  16.60     Yes              No     No             3.0   \n",
       "1           No  20.34      No              No    Yes             0.0   \n",
       "2           No  26.58     Yes              No     No            20.0   \n",
       "3           No  24.21      No              No     No             0.0   \n",
       "4           No  23.71      No              No     No            28.0   \n",
       "\n",
       "   MentalHealth DiffWalking     Sex  AgeCategory   Race Diabetic  \\\n",
       "0          30.0          No  Female        55-59  White      Yes   \n",
       "1           0.0          No  Female  80 or older  White       No   \n",
       "2          30.0          No    Male        65-69  White      Yes   \n",
       "3           0.0          No  Female        75-79  White       No   \n",
       "4           0.0         Yes  Female        40-44  White       No   \n",
       "\n",
       "  PhysicalActivity  GenHealth  SleepTime Asthma KidneyDisease SkinCancer  \n",
       "0              Yes  Very good        5.0    Yes            No        Yes  \n",
       "1              Yes  Very good        7.0     No            No         No  \n",
       "2              Yes       Fair        8.0    Yes            No         No  \n",
       "3               No       Good        6.0     No            No        Yes  \n",
       "4              Yes  Very good        8.0     No            No         No  "
      ]
     },
     "execution_count": 35,
     "metadata": {},
     "output_type": "execute_result"
    }
   ],
   "source": [
    "heart_df.head()"
   ]
  },
  {
   "cell_type": "markdown",
   "id": "d9f210c5",
   "metadata": {},
   "source": [
    "The dataset has already been cleaned beforehand as stated by the dataset's authors, however, the procedures for data cleaning discussed in class will still be performed to ensure that the data is clean and all entries are valid in terms of their content and datatype."
   ]
  },
  {
   "cell_type": "markdown",
   "id": "65cbefff",
   "metadata": {},
   "source": [
    "### Checking for missing values"
   ]
  },
  {
   "cell_type": "code",
   "execution_count": 37,
   "id": "eb4443f0",
   "metadata": {},
   "outputs": [
    {
     "data": {
      "text/plain": [
       "HeartDisease        False\n",
       "BMI                 False\n",
       "Smoking             False\n",
       "AlcoholDrinking     False\n",
       "Stroke              False\n",
       "PhysicalHealth      False\n",
       "MentalHealth        False\n",
       "DiffWalking         False\n",
       "Sex                 False\n",
       "AgeCategory         False\n",
       "Race                False\n",
       "Diabetic            False\n",
       "PhysicalActivity    False\n",
       "GenHealth           False\n",
       "SleepTime           False\n",
       "Asthma              False\n",
       "KidneyDisease       False\n",
       "SkinCancer          False\n",
       "dtype: bool"
      ]
     },
     "execution_count": 37,
     "metadata": {},
     "output_type": "execute_result"
    }
   ],
   "source": [
    "heart_df.isnull().any()"
   ]
  },
  {
   "cell_type": "markdown",
   "id": "908291d7",
   "metadata": {},
   "source": [
    "### Checking for inconsistencies and multiple representations"
   ]
  },
  {
   "cell_type": "code",
   "execution_count": 38,
   "id": "9146c093",
   "metadata": {},
   "outputs": [
    {
     "name": "stdout",
     "output_type": "stream",
     "text": [
      "No. of unique values per column:\n",
      " HeartDisease           2\n",
      "BMI                 3604\n",
      "Smoking                2\n",
      "AlcoholDrinking        2\n",
      "Stroke                 2\n",
      "PhysicalHealth        31\n",
      "MentalHealth          31\n",
      "DiffWalking            2\n",
      "Sex                    2\n",
      "AgeCategory           13\n",
      "Race                   6\n",
      "Diabetic               4\n",
      "PhysicalActivity       2\n",
      "GenHealth              5\n",
      "SleepTime             24\n",
      "Asthma                 2\n",
      "KidneyDisease          2\n",
      "SkinCancer             2\n",
      "dtype: int64\n"
     ]
    }
   ],
   "source": [
    "print(\"No. of unique values per column:\\n\",heart_df.nunique())"
   ]
  },
  {
   "cell_type": "markdown",
   "id": "96aadb8e",
   "metadata": {},
   "source": [
    "Checking for all the unique values for each variable used."
   ]
  },
  {
   "cell_type": "markdown",
   "id": "16e9651c",
   "metadata": {},
   "source": [
    "### Heart Disease"
   ]
  },
  {
   "cell_type": "code",
   "execution_count": 39,
   "id": "9320c0f7",
   "metadata": {},
   "outputs": [
    {
     "data": {
      "text/plain": [
       "array(['No', 'Yes'], dtype=object)"
      ]
     },
     "execution_count": 39,
     "metadata": {},
     "output_type": "execute_result"
    }
   ],
   "source": [
    "heart_df['HeartDisease'].unique()"
   ]
  },
  {
   "cell_type": "markdown",
   "id": "20d6a4b3",
   "metadata": {},
   "source": [
    "### BMI"
   ]
  },
  {
   "cell_type": "code",
   "execution_count": 40,
   "id": "946f5adc",
   "metadata": {},
   "outputs": [
    {
     "data": {
      "text/plain": [
       "array([16.6 , 20.34, 26.58, ..., 62.42, 51.46, 46.56])"
      ]
     },
     "execution_count": 40,
     "metadata": {},
     "output_type": "execute_result"
    }
   ],
   "source": [
    "heart_df['BMI'].unique()"
   ]
  },
  {
   "cell_type": "markdown",
   "id": "5b1615b3",
   "metadata": {},
   "source": [
    "### Smoking"
   ]
  },
  {
   "cell_type": "code",
   "execution_count": 41,
   "id": "35df1a61",
   "metadata": {},
   "outputs": [
    {
     "data": {
      "text/plain": [
       "array(['Yes', 'No'], dtype=object)"
      ]
     },
     "execution_count": 41,
     "metadata": {},
     "output_type": "execute_result"
    }
   ],
   "source": [
    "heart_df['Smoking'].unique()"
   ]
  },
  {
   "cell_type": "markdown",
   "id": "2ae02a88",
   "metadata": {},
   "source": [
    "### Diabetic"
   ]
  },
  {
   "cell_type": "code",
   "execution_count": 42,
   "id": "3e8f63f3",
   "metadata": {},
   "outputs": [
    {
     "data": {
      "text/plain": [
       "array(['Yes', 'No', 'No, borderline diabetes', 'Yes (during pregnancy)'],\n",
       "      dtype=object)"
      ]
     },
     "execution_count": 42,
     "metadata": {},
     "output_type": "execute_result"
    }
   ],
   "source": [
    "heart_df['Diabetic'].unique()"
   ]
  },
  {
   "cell_type": "markdown",
   "id": "053e9664",
   "metadata": {},
   "source": [
    "Based on the results above, the data does not contain any missing values. Also, all features contain valid entries and datatypes. "
   ]
  },
  {
   "cell_type": "markdown",
   "id": "892ebe65",
   "metadata": {},
   "source": [
    "## III. Exploratory Data Analysis"
   ]
  },
  {
   "cell_type": "markdown",
   "id": "33d45fc6",
   "metadata": {},
   "source": [
    "The group has identified several questions which would be answered through exploratory data analysis. The following code segments show the libraries to be imported."
   ]
  },
  {
   "cell_type": "code",
   "execution_count": 43,
   "id": "106596f5",
   "metadata": {},
   "outputs": [],
   "source": [
    "import matplotlib.pyplot as plt\n",
    "from scipy import stats\n",
    "# sets the theme of the charts\n",
    "# plt.style.use('seaborn-darkgrid')\n",
    "\n",
    "# %matplotlib inline\n",
    "\n",
    "%matplotlib inline"
   ]
  },
  {
   "cell_type": "markdown",
   "id": "f9e950b6",
   "metadata": {},
   "source": [
    "Since some columns contain boolean values, we must first apply one-hot encoding to aid in the analysis. In the case of the unique values of the `diabetic` variable, we have combined the value of `Yes (during pregnancy)` to the value `Yes` and `No, borderline diabetes` to the value `No`. This study will only focus on type 1 diabetes, therefore the term \"borderline diabetes\" is considered as prediabetes/type 2 diabetes.  "
   ]
  },
  {
   "cell_type": "code",
   "execution_count": 44,
   "id": "d86e6a6c",
   "metadata": {},
   "outputs": [
    {
     "data": {
      "text/html": [
       "<div>\n",
       "<style scoped>\n",
       "    .dataframe tbody tr th:only-of-type {\n",
       "        vertical-align: middle;\n",
       "    }\n",
       "\n",
       "    .dataframe tbody tr th {\n",
       "        vertical-align: top;\n",
       "    }\n",
       "\n",
       "    .dataframe thead th {\n",
       "        text-align: right;\n",
       "    }\n",
       "</style>\n",
       "<table border=\"1\" class=\"dataframe\">\n",
       "  <thead>\n",
       "    <tr style=\"text-align: right;\">\n",
       "      <th></th>\n",
       "      <th>HeartDisease</th>\n",
       "      <th>BMI</th>\n",
       "      <th>Smoking</th>\n",
       "      <th>AlcoholDrinking</th>\n",
       "      <th>Stroke</th>\n",
       "      <th>PhysicalHealth</th>\n",
       "      <th>MentalHealth</th>\n",
       "      <th>DiffWalking</th>\n",
       "      <th>Sex</th>\n",
       "      <th>AgeCategory</th>\n",
       "      <th>Race</th>\n",
       "      <th>Diabetic</th>\n",
       "      <th>PhysicalActivity</th>\n",
       "      <th>GenHealth</th>\n",
       "      <th>SleepTime</th>\n",
       "      <th>Asthma</th>\n",
       "      <th>KidneyDisease</th>\n",
       "      <th>SkinCancer</th>\n",
       "    </tr>\n",
       "  </thead>\n",
       "  <tbody>\n",
       "    <tr>\n",
       "      <th>0</th>\n",
       "      <td>0</td>\n",
       "      <td>16.60</td>\n",
       "      <td>1</td>\n",
       "      <td>0</td>\n",
       "      <td>0</td>\n",
       "      <td>3.0</td>\n",
       "      <td>30.0</td>\n",
       "      <td>0</td>\n",
       "      <td>Female</td>\n",
       "      <td>55-59</td>\n",
       "      <td>White</td>\n",
       "      <td>1</td>\n",
       "      <td>1</td>\n",
       "      <td>Very good</td>\n",
       "      <td>5.0</td>\n",
       "      <td>1</td>\n",
       "      <td>0</td>\n",
       "      <td>1</td>\n",
       "    </tr>\n",
       "    <tr>\n",
       "      <th>1</th>\n",
       "      <td>0</td>\n",
       "      <td>20.34</td>\n",
       "      <td>0</td>\n",
       "      <td>0</td>\n",
       "      <td>1</td>\n",
       "      <td>0.0</td>\n",
       "      <td>0.0</td>\n",
       "      <td>0</td>\n",
       "      <td>Female</td>\n",
       "      <td>80 or older</td>\n",
       "      <td>White</td>\n",
       "      <td>0</td>\n",
       "      <td>1</td>\n",
       "      <td>Very good</td>\n",
       "      <td>7.0</td>\n",
       "      <td>0</td>\n",
       "      <td>0</td>\n",
       "      <td>0</td>\n",
       "    </tr>\n",
       "    <tr>\n",
       "      <th>2</th>\n",
       "      <td>0</td>\n",
       "      <td>26.58</td>\n",
       "      <td>1</td>\n",
       "      <td>0</td>\n",
       "      <td>0</td>\n",
       "      <td>20.0</td>\n",
       "      <td>30.0</td>\n",
       "      <td>0</td>\n",
       "      <td>Male</td>\n",
       "      <td>65-69</td>\n",
       "      <td>White</td>\n",
       "      <td>1</td>\n",
       "      <td>1</td>\n",
       "      <td>Fair</td>\n",
       "      <td>8.0</td>\n",
       "      <td>1</td>\n",
       "      <td>0</td>\n",
       "      <td>0</td>\n",
       "    </tr>\n",
       "    <tr>\n",
       "      <th>3</th>\n",
       "      <td>0</td>\n",
       "      <td>24.21</td>\n",
       "      <td>0</td>\n",
       "      <td>0</td>\n",
       "      <td>0</td>\n",
       "      <td>0.0</td>\n",
       "      <td>0.0</td>\n",
       "      <td>0</td>\n",
       "      <td>Female</td>\n",
       "      <td>75-79</td>\n",
       "      <td>White</td>\n",
       "      <td>0</td>\n",
       "      <td>0</td>\n",
       "      <td>Good</td>\n",
       "      <td>6.0</td>\n",
       "      <td>0</td>\n",
       "      <td>0</td>\n",
       "      <td>1</td>\n",
       "    </tr>\n",
       "    <tr>\n",
       "      <th>4</th>\n",
       "      <td>0</td>\n",
       "      <td>23.71</td>\n",
       "      <td>0</td>\n",
       "      <td>0</td>\n",
       "      <td>0</td>\n",
       "      <td>28.0</td>\n",
       "      <td>0.0</td>\n",
       "      <td>1</td>\n",
       "      <td>Female</td>\n",
       "      <td>40-44</td>\n",
       "      <td>White</td>\n",
       "      <td>0</td>\n",
       "      <td>1</td>\n",
       "      <td>Very good</td>\n",
       "      <td>8.0</td>\n",
       "      <td>0</td>\n",
       "      <td>0</td>\n",
       "      <td>0</td>\n",
       "    </tr>\n",
       "    <tr>\n",
       "      <th>...</th>\n",
       "      <td>...</td>\n",
       "      <td>...</td>\n",
       "      <td>...</td>\n",
       "      <td>...</td>\n",
       "      <td>...</td>\n",
       "      <td>...</td>\n",
       "      <td>...</td>\n",
       "      <td>...</td>\n",
       "      <td>...</td>\n",
       "      <td>...</td>\n",
       "      <td>...</td>\n",
       "      <td>...</td>\n",
       "      <td>...</td>\n",
       "      <td>...</td>\n",
       "      <td>...</td>\n",
       "      <td>...</td>\n",
       "      <td>...</td>\n",
       "      <td>...</td>\n",
       "    </tr>\n",
       "    <tr>\n",
       "      <th>319790</th>\n",
       "      <td>1</td>\n",
       "      <td>27.41</td>\n",
       "      <td>1</td>\n",
       "      <td>0</td>\n",
       "      <td>0</td>\n",
       "      <td>7.0</td>\n",
       "      <td>0.0</td>\n",
       "      <td>1</td>\n",
       "      <td>Male</td>\n",
       "      <td>60-64</td>\n",
       "      <td>Hispanic</td>\n",
       "      <td>1</td>\n",
       "      <td>0</td>\n",
       "      <td>Fair</td>\n",
       "      <td>6.0</td>\n",
       "      <td>1</td>\n",
       "      <td>0</td>\n",
       "      <td>0</td>\n",
       "    </tr>\n",
       "    <tr>\n",
       "      <th>319791</th>\n",
       "      <td>0</td>\n",
       "      <td>29.84</td>\n",
       "      <td>1</td>\n",
       "      <td>0</td>\n",
       "      <td>0</td>\n",
       "      <td>0.0</td>\n",
       "      <td>0.0</td>\n",
       "      <td>0</td>\n",
       "      <td>Male</td>\n",
       "      <td>35-39</td>\n",
       "      <td>Hispanic</td>\n",
       "      <td>0</td>\n",
       "      <td>1</td>\n",
       "      <td>Very good</td>\n",
       "      <td>5.0</td>\n",
       "      <td>1</td>\n",
       "      <td>0</td>\n",
       "      <td>0</td>\n",
       "    </tr>\n",
       "    <tr>\n",
       "      <th>319792</th>\n",
       "      <td>0</td>\n",
       "      <td>24.24</td>\n",
       "      <td>0</td>\n",
       "      <td>0</td>\n",
       "      <td>0</td>\n",
       "      <td>0.0</td>\n",
       "      <td>0.0</td>\n",
       "      <td>0</td>\n",
       "      <td>Female</td>\n",
       "      <td>45-49</td>\n",
       "      <td>Hispanic</td>\n",
       "      <td>0</td>\n",
       "      <td>1</td>\n",
       "      <td>Good</td>\n",
       "      <td>6.0</td>\n",
       "      <td>0</td>\n",
       "      <td>0</td>\n",
       "      <td>0</td>\n",
       "    </tr>\n",
       "    <tr>\n",
       "      <th>319793</th>\n",
       "      <td>0</td>\n",
       "      <td>32.81</td>\n",
       "      <td>0</td>\n",
       "      <td>0</td>\n",
       "      <td>0</td>\n",
       "      <td>0.0</td>\n",
       "      <td>0.0</td>\n",
       "      <td>0</td>\n",
       "      <td>Female</td>\n",
       "      <td>25-29</td>\n",
       "      <td>Hispanic</td>\n",
       "      <td>0</td>\n",
       "      <td>0</td>\n",
       "      <td>Good</td>\n",
       "      <td>12.0</td>\n",
       "      <td>0</td>\n",
       "      <td>0</td>\n",
       "      <td>0</td>\n",
       "    </tr>\n",
       "    <tr>\n",
       "      <th>319794</th>\n",
       "      <td>0</td>\n",
       "      <td>46.56</td>\n",
       "      <td>0</td>\n",
       "      <td>0</td>\n",
       "      <td>0</td>\n",
       "      <td>0.0</td>\n",
       "      <td>0.0</td>\n",
       "      <td>0</td>\n",
       "      <td>Female</td>\n",
       "      <td>80 or older</td>\n",
       "      <td>Hispanic</td>\n",
       "      <td>0</td>\n",
       "      <td>1</td>\n",
       "      <td>Good</td>\n",
       "      <td>8.0</td>\n",
       "      <td>0</td>\n",
       "      <td>0</td>\n",
       "      <td>0</td>\n",
       "    </tr>\n",
       "  </tbody>\n",
       "</table>\n",
       "<p>319795 rows × 18 columns</p>\n",
       "</div>"
      ],
      "text/plain": [
       "        HeartDisease    BMI  Smoking  AlcoholDrinking  Stroke  PhysicalHealth  \\\n",
       "0                  0  16.60        1                0       0             3.0   \n",
       "1                  0  20.34        0                0       1             0.0   \n",
       "2                  0  26.58        1                0       0            20.0   \n",
       "3                  0  24.21        0                0       0             0.0   \n",
       "4                  0  23.71        0                0       0            28.0   \n",
       "...              ...    ...      ...              ...     ...             ...   \n",
       "319790             1  27.41        1                0       0             7.0   \n",
       "319791             0  29.84        1                0       0             0.0   \n",
       "319792             0  24.24        0                0       0             0.0   \n",
       "319793             0  32.81        0                0       0             0.0   \n",
       "319794             0  46.56        0                0       0             0.0   \n",
       "\n",
       "        MentalHealth  DiffWalking     Sex  AgeCategory      Race  Diabetic  \\\n",
       "0               30.0            0  Female        55-59     White         1   \n",
       "1                0.0            0  Female  80 or older     White         0   \n",
       "2               30.0            0    Male        65-69     White         1   \n",
       "3                0.0            0  Female        75-79     White         0   \n",
       "4                0.0            1  Female        40-44     White         0   \n",
       "...              ...          ...     ...          ...       ...       ...   \n",
       "319790           0.0            1    Male        60-64  Hispanic         1   \n",
       "319791           0.0            0    Male        35-39  Hispanic         0   \n",
       "319792           0.0            0  Female        45-49  Hispanic         0   \n",
       "319793           0.0            0  Female        25-29  Hispanic         0   \n",
       "319794           0.0            0  Female  80 or older  Hispanic         0   \n",
       "\n",
       "        PhysicalActivity  GenHealth  SleepTime  Asthma  KidneyDisease  \\\n",
       "0                      1  Very good        5.0       1              0   \n",
       "1                      1  Very good        7.0       0              0   \n",
       "2                      1       Fair        8.0       1              0   \n",
       "3                      0       Good        6.0       0              0   \n",
       "4                      1  Very good        8.0       0              0   \n",
       "...                  ...        ...        ...     ...            ...   \n",
       "319790                 0       Fair        6.0       1              0   \n",
       "319791                 1  Very good        5.0       1              0   \n",
       "319792                 1       Good        6.0       0              0   \n",
       "319793                 0       Good       12.0       0              0   \n",
       "319794                 1       Good        8.0       0              0   \n",
       "\n",
       "        SkinCancer  \n",
       "0                1  \n",
       "1                0  \n",
       "2                0  \n",
       "3                1  \n",
       "4                0  \n",
       "...            ...  \n",
       "319790           0  \n",
       "319791           0  \n",
       "319792           0  \n",
       "319793           0  \n",
       "319794           0  \n",
       "\n",
       "[319795 rows x 18 columns]"
      ]
     },
     "execution_count": 44,
     "metadata": {},
     "output_type": "execute_result"
    }
   ],
   "source": [
    "heart_df = heart_df.replace({'Yes': 1, 'No':0, 'No, borderline diabetes': 0, 'Yes (during pregnancy)': 1})\n",
    "heart_df\n"
   ]
  },
  {
   "cell_type": "markdown",
   "id": "51a120af",
   "metadata": {},
   "source": [
    "### Is there a relationship between heart disease and BMI?"
   ]
  },
  {
   "cell_type": "markdown",
   "id": "9838489e",
   "metadata": {},
   "source": [
    "Body Mass Index (BMI) refers to the measure of body fat based on an individual's weight and height. It has four different categories: underweight, normal weight, overweight, and obesity. People with BMIs that are <18.5 are considered underweight, while an index between 18.5-24.9 fall under normal weight. On the other hand, values from 25-29.9 would fall under overweight. Lastly, a BMI of 30 or greater would fall under obesity."
   ]
  },
  {
   "cell_type": "markdown",
   "id": "7062dc8b",
   "metadata": {},
   "source": [
    "Given this, we would like to find out if the dataset shows a relationship between heart disease and an individual's BMI."
   ]
  },
  {
   "cell_type": "markdown",
   "id": "2036b871",
   "metadata": {},
   "source": [
    "To answer this question, we must group the entire dataset accordingly."
   ]
  },
  {
   "cell_type": "code",
   "execution_count": 46,
   "id": "e5aae22e",
   "metadata": {},
   "outputs": [
    {
     "data": {
      "text/html": [
       "<div>\n",
       "<style scoped>\n",
       "    .dataframe tbody tr th:only-of-type {\n",
       "        vertical-align: middle;\n",
       "    }\n",
       "\n",
       "    .dataframe tbody tr th {\n",
       "        vertical-align: top;\n",
       "    }\n",
       "\n",
       "    .dataframe thead th {\n",
       "        text-align: right;\n",
       "    }\n",
       "</style>\n",
       "<table border=\"1\" class=\"dataframe\">\n",
       "  <thead>\n",
       "    <tr style=\"text-align: right;\">\n",
       "      <th></th>\n",
       "      <th>HeartDisease</th>\n",
       "      <th>BMI</th>\n",
       "    </tr>\n",
       "  </thead>\n",
       "  <tbody>\n",
       "    <tr>\n",
       "      <th>0</th>\n",
       "      <td>0</td>\n",
       "      <td>16.60</td>\n",
       "    </tr>\n",
       "    <tr>\n",
       "      <th>1</th>\n",
       "      <td>0</td>\n",
       "      <td>20.34</td>\n",
       "    </tr>\n",
       "    <tr>\n",
       "      <th>2</th>\n",
       "      <td>0</td>\n",
       "      <td>26.58</td>\n",
       "    </tr>\n",
       "    <tr>\n",
       "      <th>3</th>\n",
       "      <td>0</td>\n",
       "      <td>24.21</td>\n",
       "    </tr>\n",
       "    <tr>\n",
       "      <th>4</th>\n",
       "      <td>0</td>\n",
       "      <td>23.71</td>\n",
       "    </tr>\n",
       "    <tr>\n",
       "      <th>...</th>\n",
       "      <td>...</td>\n",
       "      <td>...</td>\n",
       "    </tr>\n",
       "    <tr>\n",
       "      <th>319790</th>\n",
       "      <td>1</td>\n",
       "      <td>27.41</td>\n",
       "    </tr>\n",
       "    <tr>\n",
       "      <th>319791</th>\n",
       "      <td>0</td>\n",
       "      <td>29.84</td>\n",
       "    </tr>\n",
       "    <tr>\n",
       "      <th>319792</th>\n",
       "      <td>0</td>\n",
       "      <td>24.24</td>\n",
       "    </tr>\n",
       "    <tr>\n",
       "      <th>319793</th>\n",
       "      <td>0</td>\n",
       "      <td>32.81</td>\n",
       "    </tr>\n",
       "    <tr>\n",
       "      <th>319794</th>\n",
       "      <td>0</td>\n",
       "      <td>46.56</td>\n",
       "    </tr>\n",
       "  </tbody>\n",
       "</table>\n",
       "<p>319795 rows × 2 columns</p>\n",
       "</div>"
      ],
      "text/plain": [
       "        HeartDisease    BMI\n",
       "0                  0  16.60\n",
       "1                  0  20.34\n",
       "2                  0  26.58\n",
       "3                  0  24.21\n",
       "4                  0  23.71\n",
       "...              ...    ...\n",
       "319790             1  27.41\n",
       "319791             0  29.84\n",
       "319792             0  24.24\n",
       "319793             0  32.81\n",
       "319794             0  46.56\n",
       "\n",
       "[319795 rows x 2 columns]"
      ]
     },
     "execution_count": 46,
     "metadata": {},
     "output_type": "execute_result"
    }
   ],
   "source": [
    "hd_bmi = heart_df[['HeartDisease', 'BMI']]\n",
    "hd_bmi"
   ]
  },
  {
   "cell_type": "markdown",
   "id": "3fb90171",
   "metadata": {},
   "source": [
    "The following segment shows the observations grouped by `HeartDisease`."
   ]
  },
  {
   "cell_type": "code",
   "execution_count": 48,
   "id": "231556a9",
   "metadata": {},
   "outputs": [
    {
     "data": {
      "text/html": [
       "<div>\n",
       "<style scoped>\n",
       "    .dataframe tbody tr th:only-of-type {\n",
       "        vertical-align: middle;\n",
       "    }\n",
       "\n",
       "    .dataframe tbody tr th {\n",
       "        vertical-align: top;\n",
       "    }\n",
       "\n",
       "    .dataframe thead th {\n",
       "        text-align: right;\n",
       "    }\n",
       "</style>\n",
       "<table border=\"1\" class=\"dataframe\">\n",
       "  <thead>\n",
       "    <tr style=\"text-align: right;\">\n",
       "      <th></th>\n",
       "      <th>BMI</th>\n",
       "    </tr>\n",
       "    <tr>\n",
       "      <th>HeartDisease</th>\n",
       "      <th></th>\n",
       "    </tr>\n",
       "  </thead>\n",
       "  <tbody>\n",
       "    <tr>\n",
       "      <th>0</th>\n",
       "      <td>292422</td>\n",
       "    </tr>\n",
       "    <tr>\n",
       "      <th>1</th>\n",
       "      <td>27373</td>\n",
       "    </tr>\n",
       "  </tbody>\n",
       "</table>\n",
       "</div>"
      ],
      "text/plain": [
       "                 BMI\n",
       "HeartDisease        \n",
       "0             292422\n",
       "1              27373"
      ]
     },
     "execution_count": 48,
     "metadata": {},
     "output_type": "execute_result"
    }
   ],
   "source": [
    "hd_bmi.groupby('HeartDisease').count()"
   ]
  },
  {
   "cell_type": "markdown",
   "id": "5f299522",
   "metadata": {},
   "source": [
    "The correlation between the two is calculated as follows:"
   ]
  },
  {
   "cell_type": "code",
   "execution_count": 49,
   "id": "f7533062",
   "metadata": {},
   "outputs": [
    {
     "data": {
      "text/plain": [
       "PointbiserialrResult(correlation=0.05180319065578059, pvalue=6.7794550351556225e-189)"
      ]
     },
     "execution_count": 49,
     "metadata": {},
     "output_type": "execute_result"
    }
   ],
   "source": [
    "stats.pointbiserialr(hd_bmi['HeartDisease'],hd_bmi['BMI'])"
   ]
  },
  {
   "cell_type": "markdown",
   "id": "12371ae8",
   "metadata": {},
   "source": [
    "Since the variables `HeartDisease` and `BMI` are binary and continuous variables respectively, the point biserial correlation was used. Similar to other correlation coefficients, the point biserial correlation coefficient result varies between -1 and +1, with a value of 0 implying no correlation. Moreover, the resulting coefficient is mathematically equivalent to the Pearson's correlation coefficient. This can be seen in the following code segment."
   ]
  },
  {
   "cell_type": "code",
   "execution_count": 50,
   "id": "ed7b48d5",
   "metadata": {},
   "outputs": [
    {
     "data": {
      "text/html": [
       "<div>\n",
       "<style scoped>\n",
       "    .dataframe tbody tr th:only-of-type {\n",
       "        vertical-align: middle;\n",
       "    }\n",
       "\n",
       "    .dataframe tbody tr th {\n",
       "        vertical-align: top;\n",
       "    }\n",
       "\n",
       "    .dataframe thead th {\n",
       "        text-align: right;\n",
       "    }\n",
       "</style>\n",
       "<table border=\"1\" class=\"dataframe\">\n",
       "  <thead>\n",
       "    <tr style=\"text-align: right;\">\n",
       "      <th></th>\n",
       "      <th>HeartDisease</th>\n",
       "      <th>BMI</th>\n",
       "    </tr>\n",
       "  </thead>\n",
       "  <tbody>\n",
       "    <tr>\n",
       "      <th>HeartDisease</th>\n",
       "      <td>1.000000</td>\n",
       "      <td>0.051803</td>\n",
       "    </tr>\n",
       "    <tr>\n",
       "      <th>BMI</th>\n",
       "      <td>0.051803</td>\n",
       "      <td>1.000000</td>\n",
       "    </tr>\n",
       "  </tbody>\n",
       "</table>\n",
       "</div>"
      ],
      "text/plain": [
       "              HeartDisease       BMI\n",
       "HeartDisease      1.000000  0.051803\n",
       "BMI               0.051803  1.000000"
      ]
     },
     "execution_count": 50,
     "metadata": {},
     "output_type": "execute_result"
    }
   ],
   "source": [
    "hd_bmi.corr()"
   ]
  },
  {
   "cell_type": "markdown",
   "id": "38d875c2",
   "metadata": {},
   "source": [
    "The calculated correlation between the two variables is **0.0518**. From the result, the two variables are positively correlated. However, the r-value suggests a very weak relationship between the two variables. "
   ]
  },
  {
   "cell_type": "markdown",
   "id": "32ed3a4e",
   "metadata": {},
   "source": [
    "To visualize the data, the following histogram plots the frequency of numerical data across the two variables:"
   ]
  },
  {
   "cell_type": "code",
   "execution_count": 51,
   "id": "47ce5573",
   "metadata": {},
   "outputs": [
    {
     "data": {
      "text/plain": [
       "Text(0.5, 0, 'BMI')"
      ]
     },
     "execution_count": 51,
     "metadata": {},
     "output_type": "execute_result"
    },
    {
     "data": {
      "image/png": "[encoded data removed]",
      "text/plain": [
       "<Figure size 640x480 with 1 Axes>"
      ]
     },
     "metadata": {},
     "output_type": "display_data"
    }
   ],
   "source": [
    "pd.DataFrame({'Without Heart Disease': hd_bmi.groupby('HeartDisease').get_group(0).BMI,\n",
    "              'With Heart Disease':   hd_bmi.groupby('HeartDisease').get_group(1).BMI}).plot.hist(bins=50, stacked=True)\n",
    "plt.title('BMI')\n",
    "plt.xlabel('BMI')"
   ]
  },
  {
   "cell_type": "markdown",
   "id": "a3ad4aa8",
   "metadata": {},
   "source": [
    "Based on the visualization above, it can be observed that the distribution is positively skewed. The histogram also shows that people with heart disease have more observations than those without heart disease, especially around the higher BMI ranges. Although this result may be skewed by the disproportionate number of observations from both groups."
   ]
  },
  {
   "cell_type": "markdown",
   "id": "de33272f",
   "metadata": {},
   "source": [
    "### Is there a relationship between Diabetes and Heart Disease?"
   ]
  },
  {
   "cell_type": "markdown",
   "id": "2918cccc",
   "metadata": {},
   "source": [
    "According to the World Health Organization (WHO), diabetes is classified as a chronic and metabolic diesease caused by increase of blood sugar level which may damage the heart, blood vessels, eyes, kidneys, and nerves over time. <br>"
   ]
  },
  {
   "cell_type": "markdown",
   "id": "8fe0c814",
   "metadata": {},
   "source": [
    "Our variable of interest for this EDA question will be `HeartDisease` and `Diabetic`, therefore we will acquire the columns of the two in the dataframe and group them by the presence of diabetes:"
   ]
  },
  {
   "cell_type": "code",
   "execution_count": 52,
   "id": "11c268e2",
   "metadata": {},
   "outputs": [
    {
     "data": {
      "text/html": [
       "<div>\n",
       "<style scoped>\n",
       "    .dataframe tbody tr th:only-of-type {\n",
       "        vertical-align: middle;\n",
       "    }\n",
       "\n",
       "    .dataframe tbody tr th {\n",
       "        vertical-align: top;\n",
       "    }\n",
       "\n",
       "    .dataframe thead th {\n",
       "        text-align: right;\n",
       "    }\n",
       "</style>\n",
       "<table border=\"1\" class=\"dataframe\">\n",
       "  <thead>\n",
       "    <tr style=\"text-align: right;\">\n",
       "      <th></th>\n",
       "      <th>Not diabetic</th>\n",
       "      <th>Diabetic</th>\n",
       "    </tr>\n",
       "    <tr>\n",
       "      <th>HeartDisease</th>\n",
       "      <th></th>\n",
       "      <th></th>\n",
       "    </tr>\n",
       "  </thead>\n",
       "  <tbody>\n",
       "    <tr>\n",
       "      <th>0</th>\n",
       "      <td>258126</td>\n",
       "      <td>34296</td>\n",
       "    </tr>\n",
       "    <tr>\n",
       "      <th>1</th>\n",
       "      <td>18308</td>\n",
       "      <td>9065</td>\n",
       "    </tr>\n",
       "  </tbody>\n",
       "</table>\n",
       "</div>"
      ],
      "text/plain": [
       "              Not diabetic  Diabetic\n",
       "HeartDisease                        \n",
       "0                   258126     34296\n",
       "1                    18308      9065"
      ]
     },
     "execution_count": 52,
     "metadata": {},
     "output_type": "execute_result"
    }
   ],
   "source": [
    "hd_diabetic = heart_df.groupby('Diabetic')['HeartDisease'].value_counts()\n",
    "diabetic_df = pd.DataFrame([hd_diabetic[0], hd_diabetic[1]], index=['Not diabetic', 'Diabetic']).transpose()\n",
    "diabetic_df\n"
   ]
  },
  {
   "cell_type": "markdown",
   "id": "b35a319b",
   "metadata": {},
   "source": [
    "We visualize the relationship of the 2 variables via bar graph:"
   ]
  },
  {
   "cell_type": "code",
   "execution_count": 53,
   "id": "d210ee0a",
   "metadata": {},
   "outputs": [
    {
     "data": {
      "text/plain": [
       "Text(0, 0.5, 'Count')"
      ]
     },
     "execution_count": 53,
     "metadata": {},
     "output_type": "execute_result"
    },
    {
     "data": {
      "image/png": "[encoded data removed]",
      "text/plain": [
       "<Figure size 640x480 with 1 Axes>"
      ]
     },
     "metadata": {},
     "output_type": "display_data"
    }
   ],
   "source": [
    "diabetic_df.plot.bar()\n",
    "\n",
    "plt.xlabel('Heart Disease')\n",
    "plt.ylabel('Count')\n"
   ]
  },
  {
   "cell_type": "code",
   "execution_count": 54,
   "id": "3823fcf0",
   "metadata": {},
   "outputs": [
    {
     "data": {
      "text/plain": [
       "0    276434\n",
       "1     43361\n",
       "Name: Diabetic, dtype: int64"
      ]
     },
     "execution_count": 54,
     "metadata": {},
     "output_type": "execute_result"
    }
   ],
   "source": [
    "heart_df['Diabetic'].value_counts()"
   ]
  },
  {
   "cell_type": "markdown",
   "id": "8539a301",
   "metadata": {},
   "source": [
    "Since there is a great difference between the number of diabetic and non-diabetic respondents, we analyze the relationship by observing the proportionality of respondents with no diabetes but with heart disease and those that have diabetes and heart disease:"
   ]
  },
  {
   "cell_type": "code",
   "execution_count": 55,
   "id": "c44ec848",
   "metadata": {},
   "outputs": [],
   "source": [
    "non_diabetic_df = heart_df[heart_df['Diabetic'] == 0]\n",
    "no_diabetes_no_hd = non_diabetic_df[non_diabetic_df ['HeartDisease']==0].shape[0]\n",
    "no_diabetes_with_hd = non_diabetic_df[non_diabetic_df ['HeartDisease']==1].shape[0]\n",
    "\n",
    "with_diabetic_df = heart_df[heart_df['Diabetic'] == 1]\n",
    "with_diabetes_no_hd = with_diabetic_df[with_diabetic_df ['HeartDisease']==0].shape[0]\n",
    "with_diabetes_with_hd = with_diabetic_df[with_diabetic_df ['HeartDisease']==1].shape[0]"
   ]
  },
  {
   "cell_type": "code",
   "execution_count": 56,
   "id": "2d68f6ef",
   "metadata": {},
   "outputs": [
    {
     "name": "stdout",
     "output_type": "stream",
     "text": [
      "No diabetes and no Heart Disease: 258126\n",
      "No diabetes but with Heart Disease: 18308 \n",
      "\n",
      "Diabetic with no Heart Disease 34296\n",
      "Diabetic with Heart Disease 9065 \n",
      "\n",
      "Percentage of no diabetes but with Heart Disease: 6.62%\n",
      "Percentage of diabetic with Heart Disease: 20.91%\n"
     ]
    }
   ],
   "source": [
    "print('No diabetes and no Heart Disease:', no_diabetes_no_hd)\n",
    "print('No diabetes but with Heart Disease:', no_diabetes_with_hd, '\\n')\n",
    "\n",
    "print('Diabetic with no Heart Disease', with_diabetes_no_hd)\n",
    "print('Diabetic with Heart Disease', with_diabetes_with_hd, '\\n')\n",
    "\n",
    "print('Percentage of no diabetes but with Heart Disease: {:.2f}%'.format(no_diabetes_with_hd/non_diabetic_df.shape[0] * 100))\n",
    "print('Percentage of diabetic with Heart Disease: {:.2f}%'.format(with_diabetes_with_hd/with_diabetic_df.shape[0] * 100))"
   ]
  },
  {
   "cell_type": "markdown",
   "id": "8a5d09c7",
   "metadata": {},
   "source": [
    "based from the computed proportion, respondents who are diabetic are more prone to having a heart disease as compared to those without diabetes. To further establish the correlation between diabetes and heart disease, we will use the Chi-Square test as means to inference the categorical data."
   ]
  },
  {
   "cell_type": "code",
   "execution_count": 57,
   "id": "012f6e80",
   "metadata": {},
   "outputs": [
    {
     "name": "stdout",
     "output_type": "stream",
     "text": [
      "(9767.547685470074, 0.0, 1, array([[252772.50472334,  39649.49527666],\n",
      "       [ 23661.49527666,   3711.50472334]]))\n"
     ]
    }
   ],
   "source": [
    "chi_results = chi2_contingency(diabetic_df, correction=True)\n",
    "print(chi_results)"
   ]
  },
  {
   "cell_type": "markdown",
   "id": "c499b1e4",
   "metadata": {},
   "source": [
    "The result of the chi2_contingency() shows that the p-value is less than the significance levels of 0.01, 0.05 and 0.10. Therefore, there is a significant correlation between diabetes and heart disease. To furhter support this, we can use Cramer's V formula to calculate the presence of relationship between diabetes and heart disease.  "
   ]
  },
  {
   "cell_type": "markdown",
   "id": "49abf08a",
   "metadata": {},
   "source": [
    "Cramer's V formula is as follows:\n",
    "\n",
    "√(X2/N) / min(C-1, R-1) <br> \n",
    "\n",
    "Where: <br> \n",
    "\n",
    "X2: It is the Chi-square statistic <br>\n",
    "N: It represents the total sample size <br>\n",
    "R: It is equal to the number of rows <br>\n",
    "C: It is equal to the number of columns <br> <br>\n",
    "(Taken from: https://www.geeksforgeeks.org/how-to-calculate-cramers-v-in-python/)\n",
    "\n",
    "the computed v can be interpreted as follows: <br>\n",
    "v = 0, the variables are not associated<br>\n",
    "v = 1, the variables are perfectly associated<br>\n",
    "v < 0.25, the association between the variables is weak<br>\n",
    "v > 0.75, the association between the variables is strong<br>\n",
    "0.25 < v < 0.75, the association between the variables is moderate<br>"
   ]
  },
  {
   "cell_type": "code",
   "execution_count": 1,
   "id": "3c95bccc",
   "metadata": {},
   "outputs": [
    {
     "ename": "NameError",
     "evalue": "name 'np' is not defined",
     "output_type": "error",
     "traceback": [
      "\u001b[1;31m---------------------------------------------------------------------------\u001b[0m",
      "\u001b[1;31mNameError\u001b[0m                                 Traceback (most recent call last)",
      "Cell \u001b[1;32mIn [1], line 1\u001b[0m\n\u001b[1;32m----> 1\u001b[0m v \u001b[38;5;241m=\u001b[39m \u001b[43mnp\u001b[49m\u001b[38;5;241m.\u001b[39msqrt(chi_results[\u001b[38;5;241m0\u001b[39m]\u001b[38;5;241m/\u001b[39mnp\u001b[38;5;241m.\u001b[39msum(np\u001b[38;5;241m.\u001b[39msum(diabetic_df))) \u001b[38;5;241m/\u001b[39m \u001b[38;5;241m1\u001b[39m\n\u001b[0;32m      2\u001b[0m \u001b[38;5;28mprint\u001b[39m(\u001b[38;5;124m'\u001b[39m\u001b[38;5;132;01m{:.2f}\u001b[39;00m\u001b[38;5;124m'\u001b[39m\u001b[38;5;241m.\u001b[39mformat(v))\n",
      "\u001b[1;31mNameError\u001b[0m: name 'np' is not defined"
     ]
    }
   ],
   "source": [
    "v = np.sqrt(chi_results[0]/np.sum(np.sum(diabetic_df))) / 1\n",
    "print('{:.2f}'.format(v))"
   ]
  },
  {
   "cell_type": "markdown",
   "id": "6859ea78",
   "metadata": {},
   "source": [
    "The calculated v=0.17 is greater than 0 and less than 0.25 which can infer that there is a present but weak relationship/association between diabetes and heart disease."
   ]
  },
  {
   "cell_type": "markdown",
   "id": "b4749141-f6e7-43d0-a388-6e9b5cfb734c",
   "metadata": {},
   "source": [
    "### Is there a relationship between Smoking and Heart Disease?"
   ]
  },
  {
   "cell_type": "markdown",
   "id": "b06559fb-2fcd-4391-bcc4-43bac7662114",
   "metadata": {},
   "source": [
    "In this Dataset, the variable 'Smoking' refers to whether the respondent has smoked a hundred cigarettes or more in their lives or not, which, according to data set, is generally 5 packs.\n",
    "\n",
    "With this in mind, we would like to figure out if a respondent is more likely to catch a Heart Disease if they have smoked at least a hundred cigarettes. And to do that, we must analyze the relationship between the two variables."
   ]
  },
  {
   "cell_type": "code",
   "execution_count": 63,
   "id": "46ac1a96",
   "metadata": {},
   "outputs": [
    {
     "data": {
      "text/html": [
       "<div>\n",
       "<style scoped>\n",
       "    .dataframe tbody tr th:only-of-type {\n",
       "        vertical-align: middle;\n",
       "    }\n",
       "\n",
       "    .dataframe tbody tr th {\n",
       "        vertical-align: top;\n",
       "    }\n",
       "\n",
       "    .dataframe thead th {\n",
       "        text-align: right;\n",
       "    }\n",
       "</style>\n",
       "<table border=\"1\" class=\"dataframe\">\n",
       "  <thead>\n",
       "    <tr style=\"text-align: right;\">\n",
       "      <th></th>\n",
       "      <th>Does not Smoke</th>\n",
       "      <th>Smokes</th>\n",
       "    </tr>\n",
       "    <tr>\n",
       "      <th>HeartDisease</th>\n",
       "      <th></th>\n",
       "      <th></th>\n",
       "    </tr>\n",
       "  </thead>\n",
       "  <tbody>\n",
       "    <tr>\n",
       "      <th>0</th>\n",
       "      <td>176551</td>\n",
       "      <td>115871</td>\n",
       "    </tr>\n",
       "    <tr>\n",
       "      <th>1</th>\n",
       "      <td>11336</td>\n",
       "      <td>16037</td>\n",
       "    </tr>\n",
       "  </tbody>\n",
       "</table>\n",
       "</div>"
      ],
      "text/plain": [
       "              Does not Smoke  Smokes\n",
       "HeartDisease                        \n",
       "0                     176551  115871\n",
       "1                      11336   16037"
      ]
     },
     "execution_count": 63,
     "metadata": {},
     "output_type": "execute_result"
    }
   ],
   "source": [
    "temp = heart_df.groupby('Smoking')['HeartDisease'].value_counts()\n",
    "table = pd.DataFrame([temp[0], temp[1]], index=['Does not Smoke', 'Smokes']).transpose()\n",
    "table"
   ]
  },
  {
   "cell_type": "code",
   "execution_count": 64,
   "id": "be3cd164-4b81-404b-b7f7-b61a18d18b55",
   "metadata": {},
   "outputs": [
    {
     "data": {
      "text/plain": [
       "<AxesSubplot: xlabel='HeartDisease'>"
      ]
     },
     "execution_count": 64,
     "metadata": {},
     "output_type": "execute_result"
    },
    {
     "data": {
      "image/png": "[encoded data removed]",
      "text/plain": [
       "<Figure size 640x480 with 1 Axes>"
      ]
     },
     "metadata": {},
     "output_type": "display_data"
    }
   ],
   "source": [
    "table.plot.bar()"
   ]
  },
  {
   "cell_type": "markdown",
   "id": "d4fc72b7-c455-4fdd-8919-b2116ae1bca3",
   "metadata": {},
   "source": [
    "From the graph, it can be seen that, when it comes to people without Heart Diseases, there are more non-smokers than there are smokers. However, given that the total number of respondents are different:"
   ]
  },
  {
   "cell_type": "code",
   "execution_count": 65,
   "id": "f68ed4b4-2f17-4bc1-81f5-ca35e18c46cf",
   "metadata": {},
   "outputs": [
    {
     "data": {
      "text/plain": [
       "0    187887\n",
       "1    131908\n",
       "Name: Smoking, dtype: int64"
      ]
     },
     "execution_count": 65,
     "metadata": {},
     "output_type": "execute_result"
    }
   ],
   "source": [
    "heart_df['Smoking'].value_counts()"
   ]
  },
  {
   "cell_type": "markdown",
   "id": "dcc92271-64f8-4fda-881a-f35170521adc",
   "metadata": {},
   "source": [
    "There are more non-smokers than there are smokers, so the bar graph may be too misleading to perform a proper analysis simply based on the visualization. We can further assess the relationship by looking into the percentages:"
   ]
  },
  {
   "cell_type": "code",
   "execution_count": 66,
   "id": "0c1f2d97-81be-47f8-ae93-ee3da9ae5cb8",
   "metadata": {},
   "outputs": [
    {
     "name": "stdout",
     "output_type": "stream",
     "text": [
      "Non-smokers with no Heart Disease: 176551\n",
      "Non-smokers with Heart Disease: 11336 \n",
      "\n",
      "Smokers with no Heart Disease: 176551\n",
      "Smokers with no Heart Disease: 11336 \n",
      "\n",
      "Percentage of non-smokers with Heart Disease: 6.03%\n",
      "Percentage of smokers with Heart Disease: 8.59%\n"
     ]
    }
   ],
   "source": [
    "non_smoking_df = heart_df[heart_df['Smoking'] == 0]\n",
    "non_smoking_no_disease = non_smoking_df[non_smoking_df['HeartDisease']==0].shape[0]\n",
    "non_smoking_with_disease = non_smoking_df[non_smoking_df['HeartDisease']==1].shape[0]\n",
    "\n",
    "smoking_df = heart_df[heart_df['Smoking'] == 1]\n",
    "smoking_no_disease = non_smoking_df[non_smoking_df['HeartDisease']==0].shape[0]\n",
    "smoking_with_disease = non_smoking_df[non_smoking_df['HeartDisease']==1].shape[0]\n",
    "\n",
    "print('Non-smokers with no Heart Disease:', non_smoking_no_disease)\n",
    "print('Non-smokers with Heart Disease:', non_smoking_with_disease, '\\n')\n",
    "\n",
    "print('Smokers with no Heart Disease:', smoking_no_disease)\n",
    "print('Smokers with no Heart Disease:', smoking_with_disease, '\\n')\n",
    "\n",
    "print('Percentage of non-smokers with Heart Disease: {:.2f}%'.format(non_smoking_with_disease/non_smoking_df.shape[0] * 100))\n",
    "print('Percentage of smokers with Heart Disease: {:.2f}%'.format(smoking_with_disease/smoking_df.shape[0] * 100))"
   ]
  },
  {
   "cell_type": "markdown",
   "id": "fc6099fc-4d0a-4010-8986-5b85fde0cbe0",
   "metadata": {},
   "source": [
    "As seen above, when taking proportion and percentages into account, the percentage of smokers with a Heart Disease is higher than the percentage of the non-smokers with a Heart Disease. With that, one final measure must be taken to make sure that there is actually a correlation. Using a combination of the Pearson's Chi-Squared Test and using the Chi-square value from the test to solve for Cramer's V, we should be able to tell if there's an association between the two variables."
   ]
  },
  {
   "cell_type": "code",
   "execution_count": 67,
   "id": "cb6f557c-a78e-40c9-8c33-2e4e79d447f8",
   "metadata": {},
   "outputs": [
    {
     "name": "stdout",
     "output_type": "stream",
     "text": [
      "(3713.0331469808216, 0.0, 1, array([[171804.72588377, 120617.27411623],\n",
      "       [ 16082.27411623,  11290.72588377]]))\n"
     ]
    }
   ],
   "source": [
    "chiresults = chi2_contingency(table, correction=True)\n",
    "print(chiresults)"
   ]
  },
  {
   "cell_type": "markdown",
   "id": "2699ae61-866c-4c13-9c07-7e99526cf449",
   "metadata": {},
   "source": [
    "We can now plug the chi-square value into the Cramer's V formula:"
   ]
  },
  {
   "cell_type": "code",
   "execution_count": 68,
   "id": "6e54eafb-1243-4ce1-9e85-5b7918bd5833",
   "metadata": {},
   "outputs": [
    {
     "name": "stdout",
     "output_type": "stream",
     "text": [
      "0.11\n"
     ]
    }
   ],
   "source": [
    "v = np.sqrt(chiresults[0]/np.sum(np.sum(table)))/1\n",
    "\n",
    "print('{:.2f}'.format(v))"
   ]
  },
  {
   "cell_type": "markdown",
   "id": "265024d0-3bdf-463a-8b03-ea85a1e0a980",
   "metadata": {},
   "source": [
    "After computing, we end up with a Cramer's V of 0.11 that is just above the minimum threshold for suggesting a weak but present relationship between the two variables. Therefore, we can conclude that there is an association between Smoking and Heart Disease."
   ]
  },
  {
   "cell_type": "markdown",
   "id": "9275a5d8",
   "metadata": {},
   "source": [
    "## Formulated Research Question"
   ]
  },
  {
   "cell_type": "markdown",
   "id": "89e3dd12",
   "metadata": {},
   "source": [
    "Our exploratory data analysis has only tackled 3 of the 17 variables that can be measured on how much impact it has to an individual's risk of having a heart disease. It can be seen that certain health conditions and lifestyles may indicate or form a pattern that can lead to having the said health concern. Thus, our research aims to identify and answer the question:\n",
    "\n",
    "**What are the most significant indicators or patterns of heart disease?** \n",
    "\n",
    "This question would only take into consideration the three variables that were already included within the Exploratory Data Analysis portion.\n",
    "\n",
    "These three variables were picked because the World Health Organization (2021) has identified unhealthy eating habits, physical inactivity, tobacco usage, and excessive alcohol intake as key factors when it comes to heart disease.\n",
    "\n",
    "This question is relevant because, in the context of the Philippines, heart disease continues to be a top cause of death among Filipinos during 2021 even in times of the Covid-19 pandemic. The Philippine Statistics Authority reported that 125,913 (17.9%) of the deaths during the pandemic died because of ischemic heart disease. Ranked after heart disease are: cerebrovascular disease (68,180 or 9.7%) and the Covid-19 virus (8,390 or 1.5%) (Kabagani, 2022). "
   ]
  },
  {
   "cell_type": "markdown",
   "id": "6eab0b38",
   "metadata": {},
   "source": [
    "### References\n",
    "Kabagani, L..(2022, February 23). Heart disease remains top cause of death in PH in 2021: PSA. Retrieved from: https://www.pna.gov.ph/articles/1168439<br>\n",
    "\n",
    "World Health Organization. (2021). Cardiovascular diseases (CVDs). World Health Organization. Retrieved from: https://www.who.int/news-room/fact-sheets/detail/cardiovascular-diseases-(cvds) <br>"
   ]
  },
  {
   "cell_type": "markdown",
   "id": "ab037655",
   "metadata": {},
   "source": [
    "### IV. Data Mining\n",
    "To answer the research question posed, it is best to use data mining techniques to aid the analysis. The data mining technique to be used will be Association Rule Mining. This way, we are able to find common trends and patterns among the variables we picked to see if any patterns emerge that can serve as potential, siginficant indicators of whether or not a person may be at risk of heart disease."
   ]
  },
  {
   "cell_type": "markdown",
   "id": "4bd185ae",
   "metadata": {},
   "source": [
    "Before any Association Rule Mining can occur, the following code segment imports the necessary files and libraries to be used in data mining."
   ]
  },
  {
   "cell_type": "code",
   "execution_count": 69,
   "id": "d33b8431",
   "metadata": {},
   "outputs": [],
   "source": [
    "from rule_miner import RuleMiner\n",
    "import scipy.stats as stats"
   ]
  },
  {
   "cell_type": "markdown",
   "id": "f5802a4a",
   "metadata": {},
   "source": [
    "Again, Association Rule Mining takes a list of related items and checks to see if any patterns between the items emerge. However, one of the variables we picked, that being BMI, is numerical in nature and can't be mined for any Association Rules in its current state."
   ]
  },
  {
   "cell_type": "code",
   "execution_count": 70,
   "id": "9d5e5018",
   "metadata": {},
   "outputs": [
    {
     "data": {
      "text/plain": [
       "0         16.60\n",
       "1         20.34\n",
       "2         26.58\n",
       "3         24.21\n",
       "4         23.71\n",
       "          ...  \n",
       "319790    27.41\n",
       "319791    29.84\n",
       "319792    24.24\n",
       "319793    32.81\n",
       "319794    46.56\n",
       "Name: BMI, Length: 319795, dtype: float64"
      ]
     },
     "execution_count": 70,
     "metadata": {},
     "output_type": "execute_result"
    }
   ],
   "source": [
    "heart_df['BMI']"
   ]
  },
  {
   "cell_type": "markdown",
   "id": "47ee1536",
   "metadata": {},
   "source": [
    "To rememedy this, we've decided to categorize BMI into 'Overweight', and 'Not Overweight'. The BMI categories state that a BMI of greater than or equal to 25 constitutes as 'Overweight', so we can now change our values to reflect that. To do this we created a new DataFrame with the relevant variables and the changed BMI:"
   ]
  },
  {
   "cell_type": "code",
   "execution_count": 71,
   "id": "9b3b1cb5",
   "metadata": {},
   "outputs": [
    {
     "name": "stdout",
     "output_type": "stream",
     "text": [
      "        Smoking  Diabetic  Overweight  HeartDisease\n",
      "0             1         1           0             0\n",
      "1             0         0           0             0\n",
      "2             1         1           1             0\n",
      "3             0         0           0             0\n",
      "4             0         0           0             0\n",
      "...         ...       ...         ...           ...\n",
      "319790        1         1           1             1\n",
      "319791        1         0           1             0\n",
      "319792        0         0           0             0\n",
      "319793        0         0           1             0\n",
      "319794        0         0           1             0\n",
      "\n",
      "[319795 rows x 4 columns]\n"
     ]
    }
   ],
   "source": [
    "new_df = pd.DataFrame()\n",
    "new_df['Smoking'] = heart_df['Smoking']\n",
    "new_df['Diabetic'] = heart_df['Diabetic']\n",
    "\n",
    "\n",
    "temp = []\n",
    "for i in heart_df['BMI']:\n",
    "    if i >= 25:\n",
    "        temp.append(1)\n",
    "    else:\n",
    "        temp.append(0)\n",
    "\n",
    "new_df['Overweight'] = temp\n",
    "new_df['HeartDisease'] = heart_df['HeartDisease']\n",
    "\n",
    "print(new_df)"
   ]
  },
  {
   "cell_type": "markdown",
   "id": "4b932bae",
   "metadata": {},
   "source": [
    "Now that we have a viable dataset to compute for the association rules, we must set the threshold. Seeing as there are 319795 items in the dataset, we felt it was a good baseline to set the support threshold to roughly 10% of that at 3200, while setting the confidence threshold to 0.7.\n",
    "\n",
    "Solving for the association rules using these variables we get the following rules:"
   ]
  },
  {
   "cell_type": "code",
   "execution_count": 72,
   "id": "5cd7c288",
   "metadata": {},
   "outputs": [
    {
     "data": {
      "text/plain": [
       "[[['Diabetic', 'HeartDisease', 'Smoking'], ['Overweight']]]"
      ]
     },
     "execution_count": 72,
     "metadata": {},
     "output_type": "execute_result"
    }
   ],
   "source": [
    "new_miner = RuleMiner(3200, 0.7)\n",
    "new_miner.get_association_rules(new_df)"
   ]
  },
  {
   "cell_type": "markdown",
   "id": "92bae976",
   "metadata": {},
   "source": [
    "The only rule found is {Diabetic, HeartDisease, Smoking} -> {Overweight}. <br><br>While no rules were found that may predict Heart Disease, we've at least found a trend/pattern that respondents who smoke, have a heart disease and have smoked at least 100 cigarettes in their lifetime are more likely to be overweight than not."
   ]
  },
  {
   "cell_type": "markdown",
   "id": "027f3944",
   "metadata": {},
   "source": [
    "### V. Statistical Testing"
   ]
  },
  {
   "cell_type": "markdown",
   "id": "fd2de3fb",
   "metadata": {},
   "source": [
    "Now that data mining has been performed, the appropriate statistical tests will be applied to the data to determine the significant indicator of heart disease."
   ]
  },
  {
   "cell_type": "markdown",
   "id": "e42dc15e",
   "metadata": {},
   "source": [
    "### BMI"
   ]
  },
  {
   "cell_type": "markdown",
   "id": "f4ae4b09",
   "metadata": {},
   "source": [
    "To determine whether BMI is a significant factor of heart disease, an independent t-test can be performed to conclusively show whether there is a statistically significant difference on the means of those with heart disease to those without."
   ]
  },
  {
   "cell_type": "markdown",
   "id": "eafb2aa3-20ba-4ad6-b17b-6e252cafcfea",
   "metadata": {},
   "source": [
    "In performing the mentioned test, it is assumed that the two samples are independent and that the population distributions are normal. \n",
    "\n",
    "Moreover, the null hypothesis for the statistical test is **\"There is no statistically significant difference in the BMI between respondents with heart disease to those who do not have heart disease.\"**\n",
    "\n",
    "The alternative hypothesis for the statistical test is **\"There is a statistically significant difference in the BMI between respondents with heart disease to those who do not have heart disease.\"**\n",
    "\n",
    "The level of significance for this test will initially be set to 0.05."
   ]
  },
  {
   "cell_type": "markdown",
   "id": "c3bd2e52",
   "metadata": {},
   "source": [
    "The following segment shows the calculation of the p-value. It uses the `hd_bmi` group from the exploratory data analysis section."
   ]
  },
  {
   "cell_type": "code",
   "execution_count": 73,
   "id": "73975f33",
   "metadata": {},
   "outputs": [
    {
     "data": {
      "text/plain": [
       "Ttest_indResult(statistic=-29.33421693628801, pvalue=6.779455035549849e-189)"
      ]
     },
     "execution_count": 73,
     "metadata": {},
     "output_type": "execute_result"
    }
   ],
   "source": [
    "heart_bmi_0 = hd_bmi.loc[hd_bmi['HeartDisease'] == 0]\n",
    "heart_bmi_1 = hd_bmi.loc[hd_bmi['HeartDisease'] == 1]\n",
    "\n",
    "stats.ttest_ind(heart_bmi_0['BMI'], heart_bmi_1['BMI'])"
   ]
  },
  {
   "cell_type": "markdown",
   "id": "35232588",
   "metadata": {},
   "source": [
    "The calculated p-value for the test is 6.779455035549849e-189, which is statistically significant since the p-value is less than the critical value. The null hypothesis is rejected thus, there is a statistically significant difference in the BMI between respondents with no heart disease to those who have heart disease at a significance level of 0.05.\n",
    "\n",
    "The result is also statistically significant at a level of 0.01 and 0.10. Therefore, **BMI is a significant factor in heart disease.**"
   ]
  },
  {
   "cell_type": "markdown",
   "id": "5337005d",
   "metadata": {},
   "source": [
    "### Diabetes"
   ]
  },
  {
   "cell_type": "markdown",
   "id": "006457ef",
   "metadata": {},
   "source": [
    "Given that the variables `Diabetic` and `HeartDisease` are categorical variables, we will apply the chi-square test to get the chi statistic and p-value, and examine if what we've observed from the EDA about diabetes is by chance or because of the relationship between the two.<br>\n",
    "For this test, the null and the alternative are as follows:"
   ]
  },
  {
   "cell_type": "markdown",
   "id": "4793f0f7",
   "metadata": {},
   "source": [
    "Null hypothesis:        **Diabetes and heart disease are independent from one another**<br><br>\n",
    "Alternative hypothesis: **Diabetes and heart disease are dependent on each other**\n"
   ]
  },
  {
   "cell_type": "markdown",
   "id": "3c1ca303",
   "metadata": {},
   "source": [
    "We formulate a table to get the relevant values:"
   ]
  },
  {
   "cell_type": "code",
   "execution_count": 74,
   "id": "e50c7fd4",
   "metadata": {},
   "outputs": [
    {
     "data": {
      "text/html": [
       "<div>\n",
       "<style scoped>\n",
       "    .dataframe tbody tr th:only-of-type {\n",
       "        vertical-align: middle;\n",
       "    }\n",
       "\n",
       "    .dataframe tbody tr th {\n",
       "        vertical-align: top;\n",
       "    }\n",
       "\n",
       "    .dataframe thead th {\n",
       "        text-align: right;\n",
       "    }\n",
       "</style>\n",
       "<table border=\"1\" class=\"dataframe\">\n",
       "  <thead>\n",
       "    <tr style=\"text-align: right;\">\n",
       "      <th></th>\n",
       "      <th>Not diabetic</th>\n",
       "      <th>Diabetic</th>\n",
       "    </tr>\n",
       "    <tr>\n",
       "      <th>HeartDisease</th>\n",
       "      <th></th>\n",
       "      <th></th>\n",
       "    </tr>\n",
       "  </thead>\n",
       "  <tbody>\n",
       "    <tr>\n",
       "      <th>0</th>\n",
       "      <td>258126</td>\n",
       "      <td>34296</td>\n",
       "    </tr>\n",
       "    <tr>\n",
       "      <th>1</th>\n",
       "      <td>18308</td>\n",
       "      <td>9065</td>\n",
       "    </tr>\n",
       "  </tbody>\n",
       "</table>\n",
       "</div>"
      ],
      "text/plain": [
       "              Not diabetic  Diabetic\n",
       "HeartDisease                        \n",
       "0                   258126     34296\n",
       "1                    18308      9065"
      ]
     },
     "execution_count": 74,
     "metadata": {},
     "output_type": "execute_result"
    }
   ],
   "source": [
    "hd_diabetic = heart_df.groupby('Diabetic')['HeartDisease'].value_counts()\n",
    "diabetic_df = pd.DataFrame([hd_diabetic[0], hd_diabetic[1]], index=['Not diabetic', 'Diabetic']).transpose()\n",
    "diabetic_df\n"
   ]
  },
  {
   "cell_type": "code",
   "execution_count": 75,
   "id": "fd8fb0fe",
   "metadata": {},
   "outputs": [
    {
     "name": "stdout",
     "output_type": "stream",
     "text": [
      "Chi statistic: 9767.55\n",
      "P-value: 0.00\n"
     ]
    }
   ],
   "source": [
    "chi_results = chi2_contingency(diabetic_df, correction=True)\n",
    "print(\"Chi statistic: {:.2f}\".format(chi_results[0]))\n",
    "print(\"P-value: {:.2f}\".format(chi_results[1]))"
   ]
  },
  {
   "cell_type": "markdown",
   "id": "4374f722",
   "metadata": {},
   "source": [
    "The computed p-value of 0.0 is only an approximation of a very small and actual value. Therefore, at siginificance levels of 0.01, 0.5, and 0.1, we can reject the null hypothesis and accept the alternative hypothesis. <br><br>\n",
    "In colcusion, diabetes and heart disease are dependent on each other.\n",
    "    "
   ]
  },
  {
   "cell_type": "markdown",
   "id": "e9c053d8-25fe-4af8-a8e7-7f52213eaace",
   "metadata": {},
   "source": [
    "### Smoking"
   ]
  },
  {
   "cell_type": "markdown",
   "id": "98c02eb3-9cff-4491-a1b5-62bd69e35ad2",
   "metadata": {},
   "source": [
    "To determine whether smoking is a significant factor when it comes to Heart Disease, the statistical inference to be used will be Pearon's Chi-square test. This was used before to calculate for Cramer's V, but the actual results of the Chi-square test weren't used to determine statistical inference. Here, we will be examining the Chi-square statistic, and its p-value to determine whether or not to reject the null and alternative hypothesis."
   ]
  },
  {
   "cell_type": "markdown",
   "id": "d3151e74-cfde-4604-8517-a11f3383e1af",
   "metadata": {},
   "source": [
    "The null hypothesis for this test will be: <br>\n",
    "    <b>Smoking and Heart Disease are independent from one another.</b>\n",
    "    \n",
    "    \n",
    "While the alternative hypothesis will be:<br>\n",
    "    <b>Smoking and Heart Disease are dependent on each other.</b>\n",
    "\n",
    "Taking the relevant values, and grouping them to a table, we get this:"
   ]
  },
  {
   "cell_type": "code",
   "execution_count": 76,
   "id": "4601aff9-09fb-4480-8721-97bf1b23410e",
   "metadata": {},
   "outputs": [
    {
     "data": {
      "text/html": [
       "<div>\n",
       "<style scoped>\n",
       "    .dataframe tbody tr th:only-of-type {\n",
       "        vertical-align: middle;\n",
       "    }\n",
       "\n",
       "    .dataframe tbody tr th {\n",
       "        vertical-align: top;\n",
       "    }\n",
       "\n",
       "    .dataframe thead th {\n",
       "        text-align: right;\n",
       "    }\n",
       "</style>\n",
       "<table border=\"1\" class=\"dataframe\">\n",
       "  <thead>\n",
       "    <tr style=\"text-align: right;\">\n",
       "      <th></th>\n",
       "      <th>Does not Smoke</th>\n",
       "      <th>Smokes</th>\n",
       "    </tr>\n",
       "    <tr>\n",
       "      <th>HeartDisease</th>\n",
       "      <th></th>\n",
       "      <th></th>\n",
       "    </tr>\n",
       "  </thead>\n",
       "  <tbody>\n",
       "    <tr>\n",
       "      <th>0</th>\n",
       "      <td>176551</td>\n",
       "      <td>115871</td>\n",
       "    </tr>\n",
       "    <tr>\n",
       "      <th>1</th>\n",
       "      <td>11336</td>\n",
       "      <td>16037</td>\n",
       "    </tr>\n",
       "  </tbody>\n",
       "</table>\n",
       "</div>"
      ],
      "text/plain": [
       "              Does not Smoke  Smokes\n",
       "HeartDisease                        \n",
       "0                     176551  115871\n",
       "1                      11336   16037"
      ]
     },
     "execution_count": 76,
     "metadata": {},
     "output_type": "execute_result"
    }
   ],
   "source": [
    "temp = heart_df.groupby('Smoking')['HeartDisease'].value_counts()\n",
    "table = pd.DataFrame([temp[0], temp[1]], index=['Does not Smoke', 'Smokes']).transpose()\n",
    "table"
   ]
  },
  {
   "cell_type": "markdown",
   "id": "69b3ffc5-9715-41c4-bf43-28803c00817d",
   "metadata": {},
   "source": [
    "Now, we can plug this table into Python's chi-contingency test to find the chi-statistic and the p-value, which is:"
   ]
  },
  {
   "cell_type": "code",
   "execution_count": 77,
   "id": "94e7639d-2390-47a6-8b2e-922f8d92b8a0",
   "metadata": {},
   "outputs": [
    {
     "name": "stdout",
     "output_type": "stream",
     "text": [
      "Chi statistic 3713.03\n",
      "P-value 0.00\n"
     ]
    }
   ],
   "source": [
    "chiresults = chi2_contingency(table, correction=True)\n",
    "print(\"Chi statistic {:.2f}\".format(chiresults[0]))\n",
    "print(\"P-value {:.2f}\".format(chiresults[1]))"
   ]
  },
  {
   "cell_type": "markdown",
   "id": "6569bbb7-aa0d-4c92-ba71-5311464ed807",
   "metadata": {},
   "source": [
    "Though the function reports a p-score of 0.0, in reality, it is an approximation because the actual value is very small. \n",
    "\n",
    "Because of the small p-value and the high chi-statistic value (which is higher than the critical values of 0.01 , 0.05 and 0.10), it can be concluded that, there we can <b>reject</b> the null hypothesis, and accept the alternative that: \n",
    "\n",
    "<b>\"The two variables, HeartDisease and Smoking, are dependent on each other</b>\" \n",
    "\n",
    "At the significance levels of 0.01, 0.05 and 0.10."
   ]
  },
  {
   "cell_type": "markdown",
   "id": "dcd15ec0-8a57-4178-8abd-168982920e4b",
   "metadata": {},
   "source": [
    "### V. Insights and Conclusions"
   ]
  },
  {
   "cell_type": "markdown",
   "id": "99d8e615-5601-4c23-9dde-bffc3b34038e",
   "metadata": {},
   "source": [
    "Our Formulated Research Question read as follows: **What are the most significant indicators or patterns of heart disease?** \n",
    "\n",
    "To set about doing this, we used the Association Rule Mining data modelling technique to find whether any of our variables, either by themselves or together, could be formed into significant rules that could potentially serve as indicators or patterns for heart disease.\n",
    "\n",
    "In the end, only one rule emerged which is: {Diabetic, HeartDisease, Smoking} -> {Overweight}, which means that Diabetic people who Smoke and have a Heart Disease are more likely to be Overweight as well.\n",
    "\n",
    "No rules that lead to Heart Disease were found despite our statistical tests showing significant differences and dependencies with the variables. This may be due to the low association of some of the variables picked or the amount of the variables picked in general.\n",
    "\n",
    "If we were to redo this study again, we would find variables more closely associated to heart disease based on the applicable EDA, or widen our scope of variables in order to have more rules, which in-turn, could end with us finding a viable association rule that would lead to Heart Disease"
   ]
  },
  {
   "cell_type": "code",
   "execution_count": null,
   "id": "149ca9eb-c8d7-4e1b-9a54-f0be5f974f2f",
   "metadata": {},
   "outputs": [],
   "source": []
  }
 ],
 "metadata": {
  "kernelspec": {
   "display_name": "Python 3 (ipykernel)",
   "language": "python",
   "name": "python3"
  },
  "language_info": {
   "codemirror_mode": {
    "name": "ipython",
    "version": 3
   },
   "file_extension": ".py",
   "mimetype": "text/x-python",
   "name": "python",
   "nbconvert_exporter": "python",
   "pygments_lexer": "ipython3",
   "version": "3.10.7"
  },
  "vscode": {
   "interpreter": {
    "hash": "d5a41efa2e1e47cd70c0626adfcb2629c7012816a142336e35a0911abbfcad27"
   }
  }
 },
 "nbformat": 4,
 "nbformat_minor": 5
}
