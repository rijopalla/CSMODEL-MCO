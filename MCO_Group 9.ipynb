{
 "cells": [
  {
   "cell_type": "markdown",
   "id": "ae990f0b",
   "metadata": {},
   "source": [
    "# CSMODEL MCO1\n",
    "\n",
    "### Group 6:\n",
    "### Nieva, Samuel\n",
    "### Opalla, Rijan\n",
    "### Quinzon, Christopher\n"
   ]
  },
  {
   "cell_type": "markdown",
   "id": "6eb880eb",
   "metadata": {},
   "source": [
    "## I. Dataset Description"
   ]
  },
  {
   "cell_type": "markdown",
   "id": "9ad395ae",
   "metadata": {},
   "source": [
    "The dataset acquired covers the possible key indicators of heart disease among US citizens. The dataset is a public online resource available on Kaggle.com and was acquired from the Center for Disease Control and Prevention (CDC), a government organization of the United States taking part in the Behavioral Risk Factor Surveillance System (BRFSS). The data was acquired observationally as there was no form of treatment applied to the respondents. The collection was done via an annual telephone survey in all 50 states plus the District of Columbia and three more U.S. territories. Moreso, the dataset contains 319,795 rows and 18 columns with each row representing an observation of a person and the columns representing the responses of the individual to different questions about their health status. The answers of the respondents are valued as 9 booleans, 5 strings, and 4 decimals. No other external files are combined with the single file for this machine project. "
   ]
  },
  {
   "cell_type": "markdown",
   "id": "c560f43f",
   "metadata": {},
   "source": [
    "## Variables"
   ]
  },
  {
   "cell_type": "markdown",
   "id": "2f3d7847",
   "metadata": {},
   "source": [
    "### Boolean Variables\n",
    "As mentioned earlier, the dataset contains 9 boolean variables. All of which answer a specific question and contain the values `Yes` and `No`, or both of the previous answers, given special conditions as is the case with `Diabetic`."
   ]
  },
  {
   "cell_type": "markdown",
   "id": "4b687ef5-91be-4a6c-8c99-9103198382e1",
   "metadata": {},
   "source": [
    "#### Heart Disease"
   ]
  },
  {
   "cell_type": "markdown",
   "id": "ab965e66-77dd-4311-95ec-b4008d268dfc",
   "metadata": {},
   "source": [
    "The variable captures the responses of respondents that have ever reported having coronary heart disease (CHD) or myocardial infarction (MI)."
   ]
  },
  {
   "cell_type": "markdown",
   "id": "ef352b01-d8f9-45ca-932e-edd8ff44958c",
   "metadata": {},
   "source": [
    "#### Smoking"
   ]
  },
  {
   "cell_type": "markdown",
   "id": "07e214b1-b9ff-4bde-af87-39bf554355a7",
   "metadata": {},
   "source": [
    "The variable describes this as whether or not: \"Respondents have smoked at least 100 cigarettes in their lives\". The dataset notes that 5 packs of cigarettes is equivalent to 100 cigarettes."
   ]
  },
  {
   "cell_type": "markdown",
   "id": "8317f6a6",
   "metadata": {},
   "source": [
    "#### AlcoholDrinking"
   ]
  },
  {
   "cell_type": "markdown",
   "id": "b6f091a2",
   "metadata": {},
   "source": [
    "This variable asks respondents whether or not they were heavy drinkers, described as adult men having more than 14 drinks per week and adult women having more than 7 drinks per week."
   ]
  },
  {
   "cell_type": "markdown",
   "id": "9cff960c",
   "metadata": {},
   "source": [
    "#### Stroke"
   ]
  },
  {
   "cell_type": "markdown",
   "id": "eae7cded",
   "metadata": {},
   "source": [
    "The variable contains the observations to the question \"Have you ever had/Were you ever told you had a stroke?\""
   ]
  },
  {
   "cell_type": "markdown",
   "id": "3464a883",
   "metadata": {},
   "source": [
    "#### DiffWalking"
   ]
  },
  {
   "cell_type": "markdown",
   "id": "3336fa89",
   "metadata": {},
   "source": [
    "The variable asks whether or not respondents have a serious difficulty walking or climbing stairs."
   ]
  },
  {
   "cell_type": "markdown",
   "id": "17119975",
   "metadata": {},
   "source": [
    "#### PhysicalActivity"
   ]
  },
  {
   "cell_type": "markdown",
   "id": "e44fd396",
   "metadata": {},
   "source": [
    "The variable describes this as adults who reported doing physical activity or exercise during the past 30 days other than their regular job."
   ]
  },
  {
   "cell_type": "markdown",
   "id": "0cb3f9c2",
   "metadata": {},
   "source": [
    "#### Asthma"
   ]
  },
  {
   "cell_type": "markdown",
   "id": "259bab1f",
   "metadata": {},
   "source": [
    "The variable describes this as whether or not respondents have asthma"
   ]
  },
  {
   "cell_type": "markdown",
   "id": "650acbab",
   "metadata": {},
   "source": [
    "#### KidneyDisease"
   ]
  },
  {
   "cell_type": "markdown",
   "id": "b10eb90d",
   "metadata": {},
   "source": [
    "The variable describes this as whether or not respondents ever had kidney disease excluding kidney stones, bladder infection, or incontinence."
   ]
  },
  {
   "cell_type": "markdown",
   "id": "ee6b85a9",
   "metadata": {},
   "source": [
    "#### SkinCancer"
   ]
  },
  {
   "cell_type": "markdown",
   "id": "4fd242f1",
   "metadata": {},
   "source": [
    "The variable describes this as whether or not respondents ever had skin cancer."
   ]
  },
  {
   "cell_type": "markdown",
   "id": "ed8f0686",
   "metadata": {},
   "source": [
    "## String Variables\n",
    "The following are the description of the  variables that contain strings."
   ]
  },
  {
   "cell_type": "markdown",
   "id": "1c11d262",
   "metadata": {},
   "source": [
    "#### Sex"
   ]
  },
  {
   "cell_type": "markdown",
   "id": "624d2f81",
   "metadata": {},
   "source": [
    "The variable contains the respondent's sex."
   ]
  },
  {
   "cell_type": "markdown",
   "id": "9c829a20",
   "metadata": {},
   "source": [
    "#### Race"
   ]
  },
  {
   "cell_type": "markdown",
   "id": "b381f5f0",
   "metadata": {},
   "source": [
    "The variable contains the respondent's ethnicity and imputed race/ethnicity value."
   ]
  },
  {
   "cell_type": "markdown",
   "id": "bb1d1670",
   "metadata": {},
   "source": [
    "#### GenHealth"
   ]
  },
  {
   "cell_type": "markdown",
   "id": "d6b94452",
   "metadata": {},
   "source": [
    "The variable contains the answer to the question \"Would you say that your health is Very Good, Good, Fair, Poor\"?"
   ]
  },
  {
   "cell_type": "markdown",
   "id": "5a4f5d7a-3fa8-4791-85cb-e0742db015d3",
   "metadata": {},
   "source": [
    "#### Diabetic"
   ]
  },
  {
   "cell_type": "markdown",
   "id": "a46b9f00-f08b-4997-8fba-4c400fb331ee",
   "metadata": {},
   "source": [
    "The variable describes this as whether or not the respondents have diabetes.\n",
    "\n",
    "It has four unique values: `Yes`, `No`, `Yes (during pregnancy)`, and `No, borderline diabetes`, which means that the respondent has Type 2 or Prediabetes."
   ]
  },
  {
   "cell_type": "markdown",
   "id": "bfac3ee0",
   "metadata": {},
   "source": [
    "#### AgeCategory"
   ]
  },
  {
   "cell_type": "markdown",
   "id": "0dbe6b13",
   "metadata": {},
   "source": [
    "This variable contains the respondent's age category. The variable contains a fourteen-level age category starting from `18-24` to `80 or older`."
   ]
  },
  {
   "cell_type": "markdown",
   "id": "67d73a35",
   "metadata": {},
   "source": [
    "## Decimal \n",
    "The following are the description of the  variables that contain decimals."
   ]
  },
  {
   "cell_type": "markdown",
   "id": "ef414962-8574-4441-bfb8-edf1edbf12a4",
   "metadata": {},
   "source": [
    "#### BMI"
   ]
  },
  {
   "cell_type": "markdown",
   "id": "2157506b-4471-4d4c-bd87-d2da558a269c",
   "metadata": {},
   "source": [
    "The variable describes this as the respondents \"BMI\". BMI or Body Mass Index is a numerical value derived from a person's height and weight and is used to measure a person's body fat.\n",
    "\n",
    "Its value is the numerical value of the respondent's BMI."
   ]
  },
  {
   "cell_type": "markdown",
   "id": "ac4a3406",
   "metadata": {},
   "source": [
    "#### SleepTime"
   ]
  },
  {
   "cell_type": "markdown",
   "id": "26ffa65c",
   "metadata": {},
   "source": [
    "The variable answers the question \"On average, how many hours of sleep do you get in a 24-hour period?\"\n",
    "\n",
    "Each observation shows the respondent's average sleep time."
   ]
  },
  {
   "cell_type": "markdown",
   "id": "6367aa22",
   "metadata": {},
   "source": [
    "#### PhysicalHealth"
   ]
  },
  {
   "cell_type": "markdown",
   "id": "33b93e81",
   "metadata": {},
   "source": [
    "The variable contains the answer to the question: \"Now thinking about your mental health, for how many days during the past 30 days was your physical health not good?\" \n",
    "Its value represents the number of days, which answers the question."
   ]
  },
  {
   "cell_type": "markdown",
   "id": "bb21842f",
   "metadata": {},
   "source": [
    "#### MentalHealth"
   ]
  },
  {
   "cell_type": "markdown",
   "id": "3fa7ece7",
   "metadata": {},
   "source": [
    "The variable contains the answer to the question: \"Thinking about your mental health, for how many days during the past 30 days was your mental health not good?\" \n",
    "Its value represents the number of days, which answers the question."
   ]
  },
  {
   "cell_type": "markdown",
   "id": "3a10926f",
   "metadata": {},
   "source": [
    "## II. Data Cleaning\n",
    "The following code blocks are for importing the necessary libraries as well as the dataset needed."
   ]
  },
  {
   "cell_type": "code",
   "execution_count": 24,
   "id": "f4667d1f",
   "metadata": {},
   "outputs": [],
   "source": [
    "import numpy as np\n",
    "import pandas as pd\n",
    "from scipy.stats import chi2_contingency"
   ]
  },
  {
   "cell_type": "code",
   "execution_count": 25,
   "id": "4a675ca3",
   "metadata": {},
   "outputs": [],
   "source": [
    "heart_df = pd.read_csv(\"heart_2020_cleaned.csv\")"
   ]
  },
  {
   "cell_type": "markdown",
   "id": "f9203df0",
   "metadata": {},
   "source": [
    "The next segment displays general information within the dataset and the datatypes of the various features."
   ]
  },
  {
   "cell_type": "code",
   "execution_count": 26,
   "id": "c611a421",
   "metadata": {},
   "outputs": [
    {
     "name": "stdout",
     "output_type": "stream",
     "text": [
      "<class 'pandas.core.frame.DataFrame'>\n",
      "RangeIndex: 319795 entries, 0 to 319794\n",
      "Data columns (total 18 columns):\n",
      " #   Column            Non-Null Count   Dtype  \n",
      "---  ------            --------------   -----  \n",
      " 0   HeartDisease      319795 non-null  object \n",
      " 1   BMI               319795 non-null  float64\n",
      " 2   Smoking           319795 non-null  object \n",
      " 3   AlcoholDrinking   319795 non-null  object \n",
      " 4   Stroke            319795 non-null  object \n",
      " 5   PhysicalHealth    319795 non-null  float64\n",
      " 6   MentalHealth      319795 non-null  float64\n",
      " 7   DiffWalking       319795 non-null  object \n",
      " 8   Sex               319795 non-null  object \n",
      " 9   AgeCategory       319795 non-null  object \n",
      " 10  Race              319795 non-null  object \n",
      " 11  Diabetic          319795 non-null  object \n",
      " 12  PhysicalActivity  319795 non-null  object \n",
      " 13  GenHealth         319795 non-null  object \n",
      " 14  SleepTime         319795 non-null  float64\n",
      " 15  Asthma            319795 non-null  object \n",
      " 16  KidneyDisease     319795 non-null  object \n",
      " 17  SkinCancer        319795 non-null  object \n",
      "dtypes: float64(4), object(14)\n",
      "memory usage: 43.9+ MB\n"
     ]
    }
   ],
   "source": [
    "heart_df.info()"
   ]
  },
  {
   "cell_type": "code",
   "execution_count": 27,
   "id": "355ca6ab",
   "metadata": {},
   "outputs": [
    {
     "data": {
      "text/html": [
       "<div>\n",
       "<style scoped>\n",
       "    .dataframe tbody tr th:only-of-type {\n",
       "        vertical-align: middle;\n",
       "    }\n",
       "\n",
       "    .dataframe tbody tr th {\n",
       "        vertical-align: top;\n",
       "    }\n",
       "\n",
       "    .dataframe thead th {\n",
       "        text-align: right;\n",
       "    }\n",
       "</style>\n",
       "<table border=\"1\" class=\"dataframe\">\n",
       "  <thead>\n",
       "    <tr style=\"text-align: right;\">\n",
       "      <th></th>\n",
       "      <th>HeartDisease</th>\n",
       "      <th>BMI</th>\n",
       "      <th>Smoking</th>\n",
       "      <th>AlcoholDrinking</th>\n",
       "      <th>Stroke</th>\n",
       "      <th>PhysicalHealth</th>\n",
       "      <th>MentalHealth</th>\n",
       "      <th>DiffWalking</th>\n",
       "      <th>Sex</th>\n",
       "      <th>AgeCategory</th>\n",
       "      <th>Race</th>\n",
       "      <th>Diabetic</th>\n",
       "      <th>PhysicalActivity</th>\n",
       "      <th>GenHealth</th>\n",
       "      <th>SleepTime</th>\n",
       "      <th>Asthma</th>\n",
       "      <th>KidneyDisease</th>\n",
       "      <th>SkinCancer</th>\n",
       "    </tr>\n",
       "  </thead>\n",
       "  <tbody>\n",
       "    <tr>\n",
       "      <th>0</th>\n",
       "      <td>No</td>\n",
       "      <td>16.60</td>\n",
       "      <td>Yes</td>\n",
       "      <td>No</td>\n",
       "      <td>No</td>\n",
       "      <td>3.0</td>\n",
       "      <td>30.0</td>\n",
       "      <td>No</td>\n",
       "      <td>Female</td>\n",
       "      <td>55-59</td>\n",
       "      <td>White</td>\n",
       "      <td>Yes</td>\n",
       "      <td>Yes</td>\n",
       "      <td>Very good</td>\n",
       "      <td>5.0</td>\n",
       "      <td>Yes</td>\n",
       "      <td>No</td>\n",
       "      <td>Yes</td>\n",
       "    </tr>\n",
       "    <tr>\n",
       "      <th>1</th>\n",
       "      <td>No</td>\n",
       "      <td>20.34</td>\n",
       "      <td>No</td>\n",
       "      <td>No</td>\n",
       "      <td>Yes</td>\n",
       "      <td>0.0</td>\n",
       "      <td>0.0</td>\n",
       "      <td>No</td>\n",
       "      <td>Female</td>\n",
       "      <td>80 or older</td>\n",
       "      <td>White</td>\n",
       "      <td>No</td>\n",
       "      <td>Yes</td>\n",
       "      <td>Very good</td>\n",
       "      <td>7.0</td>\n",
       "      <td>No</td>\n",
       "      <td>No</td>\n",
       "      <td>No</td>\n",
       "    </tr>\n",
       "    <tr>\n",
       "      <th>2</th>\n",
       "      <td>No</td>\n",
       "      <td>26.58</td>\n",
       "      <td>Yes</td>\n",
       "      <td>No</td>\n",
       "      <td>No</td>\n",
       "      <td>20.0</td>\n",
       "      <td>30.0</td>\n",
       "      <td>No</td>\n",
       "      <td>Male</td>\n",
       "      <td>65-69</td>\n",
       "      <td>White</td>\n",
       "      <td>Yes</td>\n",
       "      <td>Yes</td>\n",
       "      <td>Fair</td>\n",
       "      <td>8.0</td>\n",
       "      <td>Yes</td>\n",
       "      <td>No</td>\n",
       "      <td>No</td>\n",
       "    </tr>\n",
       "    <tr>\n",
       "      <th>3</th>\n",
       "      <td>No</td>\n",
       "      <td>24.21</td>\n",
       "      <td>No</td>\n",
       "      <td>No</td>\n",
       "      <td>No</td>\n",
       "      <td>0.0</td>\n",
       "      <td>0.0</td>\n",
       "      <td>No</td>\n",
       "      <td>Female</td>\n",
       "      <td>75-79</td>\n",
       "      <td>White</td>\n",
       "      <td>No</td>\n",
       "      <td>No</td>\n",
       "      <td>Good</td>\n",
       "      <td>6.0</td>\n",
       "      <td>No</td>\n",
       "      <td>No</td>\n",
       "      <td>Yes</td>\n",
       "    </tr>\n",
       "    <tr>\n",
       "      <th>4</th>\n",
       "      <td>No</td>\n",
       "      <td>23.71</td>\n",
       "      <td>No</td>\n",
       "      <td>No</td>\n",
       "      <td>No</td>\n",
       "      <td>28.0</td>\n",
       "      <td>0.0</td>\n",
       "      <td>Yes</td>\n",
       "      <td>Female</td>\n",
       "      <td>40-44</td>\n",
       "      <td>White</td>\n",
       "      <td>No</td>\n",
       "      <td>Yes</td>\n",
       "      <td>Very good</td>\n",
       "      <td>8.0</td>\n",
       "      <td>No</td>\n",
       "      <td>No</td>\n",
       "      <td>No</td>\n",
       "    </tr>\n",
       "  </tbody>\n",
       "</table>\n",
       "</div>"
      ],
      "text/plain": [
       "  HeartDisease    BMI Smoking AlcoholDrinking Stroke  PhysicalHealth  \\\n",
       "0           No  16.60     Yes              No     No             3.0   \n",
       "1           No  20.34      No              No    Yes             0.0   \n",
       "2           No  26.58     Yes              No     No            20.0   \n",
       "3           No  24.21      No              No     No             0.0   \n",
       "4           No  23.71      No              No     No            28.0   \n",
       "\n",
       "   MentalHealth DiffWalking     Sex  AgeCategory   Race Diabetic  \\\n",
       "0          30.0          No  Female        55-59  White      Yes   \n",
       "1           0.0          No  Female  80 or older  White       No   \n",
       "2          30.0          No    Male        65-69  White      Yes   \n",
       "3           0.0          No  Female        75-79  White       No   \n",
       "4           0.0         Yes  Female        40-44  White       No   \n",
       "\n",
       "  PhysicalActivity  GenHealth  SleepTime Asthma KidneyDisease SkinCancer  \n",
       "0              Yes  Very good        5.0    Yes            No        Yes  \n",
       "1              Yes  Very good        7.0     No            No         No  \n",
       "2              Yes       Fair        8.0    Yes            No         No  \n",
       "3               No       Good        6.0     No            No        Yes  \n",
       "4              Yes  Very good        8.0     No            No         No  "
      ]
     },
     "execution_count": 27,
     "metadata": {},
     "output_type": "execute_result"
    }
   ],
   "source": [
    "heart_df.head()"
   ]
  },
  {
   "cell_type": "markdown",
   "id": "d9f210c5",
   "metadata": {},
   "source": [
    "The dataset has already been cleaned beforehand as stated by the dataset's authors, however, the procedures for data cleaning discussed in class will still be performed to ensure that the data is clean and all entries are valid in terms of their content and datatype."
   ]
  },
  {
   "cell_type": "markdown",
   "id": "65cbefff",
   "metadata": {},
   "source": [
    "### Checking for missing values"
   ]
  },
  {
   "cell_type": "code",
   "execution_count": null,
   "id": "eb4443f0",
   "metadata": {},
   "outputs": [],
   "source": [
    "heart_df.isnull().any()"
   ]
  },
  {
   "cell_type": "markdown",
   "id": "908291d7",
   "metadata": {},
   "source": [
    "### Checking for inconsistencies and multiple representations"
   ]
  },
  {
   "cell_type": "code",
   "execution_count": null,
   "id": "9146c093",
   "metadata": {},
   "outputs": [],
   "source": [
    "print(\"No. of unique values per column:\\n\",heart_df.nunique())"
   ]
  },
  {
   "cell_type": "markdown",
   "id": "96aadb8e",
   "metadata": {},
   "source": [
    "Checking for all the unique values for each variable used."
   ]
  },
  {
   "cell_type": "markdown",
   "id": "16e9651c",
   "metadata": {},
   "source": [
    "### Heart Disease"
   ]
  },
  {
   "cell_type": "code",
   "execution_count": null,
   "id": "9320c0f7",
   "metadata": {},
   "outputs": [],
   "source": [
    "heart_df['HeartDisease'].unique()"
   ]
  },
  {
   "cell_type": "markdown",
   "id": "20d6a4b3",
   "metadata": {},
   "source": [
    "### BMI"
   ]
  },
  {
   "cell_type": "code",
   "execution_count": null,
   "id": "946f5adc",
   "metadata": {},
   "outputs": [],
   "source": [
    "heart_df['BMI'].unique()"
   ]
  },
  {
   "cell_type": "markdown",
   "id": "5b1615b3",
   "metadata": {},
   "source": [
    "### Smoking"
   ]
  },
  {
   "cell_type": "code",
   "execution_count": null,
   "id": "35df1a61",
   "metadata": {},
   "outputs": [],
   "source": [
    "heart_df['Smoking'].unique()"
   ]
  },
  {
   "cell_type": "markdown",
   "id": "2ae02a88",
   "metadata": {},
   "source": [
    "### Diabetic"
   ]
  },
  {
   "cell_type": "code",
   "execution_count": null,
   "id": "3e8f63f3",
   "metadata": {},
   "outputs": [],
   "source": [
    "heart_df['Diabetic'].unique()"
   ]
  },
  {
   "cell_type": "markdown",
   "id": "053e9664",
   "metadata": {},
   "source": [
    "Based on the results above, the data does not contain any missing values. Also, all features contain valid entries and datatypes. "
   ]
  },
  {
   "cell_type": "markdown",
   "id": "892ebe65",
   "metadata": {},
   "source": [
    "## III. Exploratory Data Analysis"
   ]
  },
  {
   "cell_type": "markdown",
   "id": "33d45fc6",
   "metadata": {},
   "source": [
    "The group has identified several questions which would be answered through exploratory data analysis. The following code segments show the libraries to be imported."
   ]
  },
  {
   "cell_type": "code",
   "execution_count": 32,
   "id": "106596f5",
   "metadata": {},
   "outputs": [],
   "source": [
    "import matplotlib.pyplot as plt\n",
    "from scipy import stats\n",
    "# sets the theme of the charts\n",
    "# plt.style.use('seaborn-darkgrid')\n",
    "\n",
    "# %matplotlib inline\n",
    "\n",
    "%matplotlib inline"
   ]
  },
  {
   "cell_type": "markdown",
   "id": "f9e950b6",
   "metadata": {},
   "source": [
    "Since some columns contain boolean values, we must first apply one-hot encoding to aid in the analysis. In the case of the unique values of the `diabetic` variable, we have combined the value of `Yes (during pregnancy)` to the value `Yes` and `No, borderline diabetes` to the value `No`. This study will only focus on type 1 diabetes, therefore the term \"borderline diabetes\" is considered as prediabetes/type 2 diabetes.  "
   ]
  },
  {
   "cell_type": "code",
   "execution_count": 33,
   "id": "d86e6a6c",
   "metadata": {},
   "outputs": [
    {
     "data": {
      "text/html": [
       "<div>\n",
       "<style scoped>\n",
       "    .dataframe tbody tr th:only-of-type {\n",
       "        vertical-align: middle;\n",
       "    }\n",
       "\n",
       "    .dataframe tbody tr th {\n",
       "        vertical-align: top;\n",
       "    }\n",
       "\n",
       "    .dataframe thead th {\n",
       "        text-align: right;\n",
       "    }\n",
       "</style>\n",
       "<table border=\"1\" class=\"dataframe\">\n",
       "  <thead>\n",
       "    <tr style=\"text-align: right;\">\n",
       "      <th></th>\n",
       "      <th>HeartDisease</th>\n",
       "      <th>BMI</th>\n",
       "      <th>Smoking</th>\n",
       "      <th>AlcoholDrinking</th>\n",
       "      <th>Stroke</th>\n",
       "      <th>PhysicalHealth</th>\n",
       "      <th>MentalHealth</th>\n",
       "      <th>DiffWalking</th>\n",
       "      <th>Sex</th>\n",
       "      <th>AgeCategory</th>\n",
       "      <th>Race</th>\n",
       "      <th>Diabetic</th>\n",
       "      <th>PhysicalActivity</th>\n",
       "      <th>GenHealth</th>\n",
       "      <th>SleepTime</th>\n",
       "      <th>Asthma</th>\n",
       "      <th>KidneyDisease</th>\n",
       "      <th>SkinCancer</th>\n",
       "    </tr>\n",
       "  </thead>\n",
       "  <tbody>\n",
       "    <tr>\n",
       "      <th>0</th>\n",
       "      <td>0</td>\n",
       "      <td>16.60</td>\n",
       "      <td>1</td>\n",
       "      <td>0</td>\n",
       "      <td>0</td>\n",
       "      <td>3.0</td>\n",
       "      <td>30.0</td>\n",
       "      <td>0</td>\n",
       "      <td>Female</td>\n",
       "      <td>55-59</td>\n",
       "      <td>White</td>\n",
       "      <td>1</td>\n",
       "      <td>1</td>\n",
       "      <td>Very good</td>\n",
       "      <td>5.0</td>\n",
       "      <td>1</td>\n",
       "      <td>0</td>\n",
       "      <td>1</td>\n",
       "    </tr>\n",
       "    <tr>\n",
       "      <th>1</th>\n",
       "      <td>0</td>\n",
       "      <td>20.34</td>\n",
       "      <td>0</td>\n",
       "      <td>0</td>\n",
       "      <td>1</td>\n",
       "      <td>0.0</td>\n",
       "      <td>0.0</td>\n",
       "      <td>0</td>\n",
       "      <td>Female</td>\n",
       "      <td>80 or older</td>\n",
       "      <td>White</td>\n",
       "      <td>0</td>\n",
       "      <td>1</td>\n",
       "      <td>Very good</td>\n",
       "      <td>7.0</td>\n",
       "      <td>0</td>\n",
       "      <td>0</td>\n",
       "      <td>0</td>\n",
       "    </tr>\n",
       "    <tr>\n",
       "      <th>2</th>\n",
       "      <td>0</td>\n",
       "      <td>26.58</td>\n",
       "      <td>1</td>\n",
       "      <td>0</td>\n",
       "      <td>0</td>\n",
       "      <td>20.0</td>\n",
       "      <td>30.0</td>\n",
       "      <td>0</td>\n",
       "      <td>Male</td>\n",
       "      <td>65-69</td>\n",
       "      <td>White</td>\n",
       "      <td>1</td>\n",
       "      <td>1</td>\n",
       "      <td>Fair</td>\n",
       "      <td>8.0</td>\n",
       "      <td>1</td>\n",
       "      <td>0</td>\n",
       "      <td>0</td>\n",
       "    </tr>\n",
       "    <tr>\n",
       "      <th>3</th>\n",
       "      <td>0</td>\n",
       "      <td>24.21</td>\n",
       "      <td>0</td>\n",
       "      <td>0</td>\n",
       "      <td>0</td>\n",
       "      <td>0.0</td>\n",
       "      <td>0.0</td>\n",
       "      <td>0</td>\n",
       "      <td>Female</td>\n",
       "      <td>75-79</td>\n",
       "      <td>White</td>\n",
       "      <td>0</td>\n",
       "      <td>0</td>\n",
       "      <td>Good</td>\n",
       "      <td>6.0</td>\n",
       "      <td>0</td>\n",
       "      <td>0</td>\n",
       "      <td>1</td>\n",
       "    </tr>\n",
       "    <tr>\n",
       "      <th>4</th>\n",
       "      <td>0</td>\n",
       "      <td>23.71</td>\n",
       "      <td>0</td>\n",
       "      <td>0</td>\n",
       "      <td>0</td>\n",
       "      <td>28.0</td>\n",
       "      <td>0.0</td>\n",
       "      <td>1</td>\n",
       "      <td>Female</td>\n",
       "      <td>40-44</td>\n",
       "      <td>White</td>\n",
       "      <td>0</td>\n",
       "      <td>1</td>\n",
       "      <td>Very good</td>\n",
       "      <td>8.0</td>\n",
       "      <td>0</td>\n",
       "      <td>0</td>\n",
       "      <td>0</td>\n",
       "    </tr>\n",
       "    <tr>\n",
       "      <th>...</th>\n",
       "      <td>...</td>\n",
       "      <td>...</td>\n",
       "      <td>...</td>\n",
       "      <td>...</td>\n",
       "      <td>...</td>\n",
       "      <td>...</td>\n",
       "      <td>...</td>\n",
       "      <td>...</td>\n",
       "      <td>...</td>\n",
       "      <td>...</td>\n",
       "      <td>...</td>\n",
       "      <td>...</td>\n",
       "      <td>...</td>\n",
       "      <td>...</td>\n",
       "      <td>...</td>\n",
       "      <td>...</td>\n",
       "      <td>...</td>\n",
       "      <td>...</td>\n",
       "    </tr>\n",
       "    <tr>\n",
       "      <th>319790</th>\n",
       "      <td>1</td>\n",
       "      <td>27.41</td>\n",
       "      <td>1</td>\n",
       "      <td>0</td>\n",
       "      <td>0</td>\n",
       "      <td>7.0</td>\n",
       "      <td>0.0</td>\n",
       "      <td>1</td>\n",
       "      <td>Male</td>\n",
       "      <td>60-64</td>\n",
       "      <td>Hispanic</td>\n",
       "      <td>1</td>\n",
       "      <td>0</td>\n",
       "      <td>Fair</td>\n",
       "      <td>6.0</td>\n",
       "      <td>1</td>\n",
       "      <td>0</td>\n",
       "      <td>0</td>\n",
       "    </tr>\n",
       "    <tr>\n",
       "      <th>319791</th>\n",
       "      <td>0</td>\n",
       "      <td>29.84</td>\n",
       "      <td>1</td>\n",
       "      <td>0</td>\n",
       "      <td>0</td>\n",
       "      <td>0.0</td>\n",
       "      <td>0.0</td>\n",
       "      <td>0</td>\n",
       "      <td>Male</td>\n",
       "      <td>35-39</td>\n",
       "      <td>Hispanic</td>\n",
       "      <td>0</td>\n",
       "      <td>1</td>\n",
       "      <td>Very good</td>\n",
       "      <td>5.0</td>\n",
       "      <td>1</td>\n",
       "      <td>0</td>\n",
       "      <td>0</td>\n",
       "    </tr>\n",
       "    <tr>\n",
       "      <th>319792</th>\n",
       "      <td>0</td>\n",
       "      <td>24.24</td>\n",
       "      <td>0</td>\n",
       "      <td>0</td>\n",
       "      <td>0</td>\n",
       "      <td>0.0</td>\n",
       "      <td>0.0</td>\n",
       "      <td>0</td>\n",
       "      <td>Female</td>\n",
       "      <td>45-49</td>\n",
       "      <td>Hispanic</td>\n",
       "      <td>0</td>\n",
       "      <td>1</td>\n",
       "      <td>Good</td>\n",
       "      <td>6.0</td>\n",
       "      <td>0</td>\n",
       "      <td>0</td>\n",
       "      <td>0</td>\n",
       "    </tr>\n",
       "    <tr>\n",
       "      <th>319793</th>\n",
       "      <td>0</td>\n",
       "      <td>32.81</td>\n",
       "      <td>0</td>\n",
       "      <td>0</td>\n",
       "      <td>0</td>\n",
       "      <td>0.0</td>\n",
       "      <td>0.0</td>\n",
       "      <td>0</td>\n",
       "      <td>Female</td>\n",
       "      <td>25-29</td>\n",
       "      <td>Hispanic</td>\n",
       "      <td>0</td>\n",
       "      <td>0</td>\n",
       "      <td>Good</td>\n",
       "      <td>12.0</td>\n",
       "      <td>0</td>\n",
       "      <td>0</td>\n",
       "      <td>0</td>\n",
       "    </tr>\n",
       "    <tr>\n",
       "      <th>319794</th>\n",
       "      <td>0</td>\n",
       "      <td>46.56</td>\n",
       "      <td>0</td>\n",
       "      <td>0</td>\n",
       "      <td>0</td>\n",
       "      <td>0.0</td>\n",
       "      <td>0.0</td>\n",
       "      <td>0</td>\n",
       "      <td>Female</td>\n",
       "      <td>80 or older</td>\n",
       "      <td>Hispanic</td>\n",
       "      <td>0</td>\n",
       "      <td>1</td>\n",
       "      <td>Good</td>\n",
       "      <td>8.0</td>\n",
       "      <td>0</td>\n",
       "      <td>0</td>\n",
       "      <td>0</td>\n",
       "    </tr>\n",
       "  </tbody>\n",
       "</table>\n",
       "<p>319795 rows × 18 columns</p>\n",
       "</div>"
      ],
      "text/plain": [
       "        HeartDisease    BMI  Smoking  AlcoholDrinking  Stroke  PhysicalHealth  \\\n",
       "0                  0  16.60        1                0       0             3.0   \n",
       "1                  0  20.34        0                0       1             0.0   \n",
       "2                  0  26.58        1                0       0            20.0   \n",
       "3                  0  24.21        0                0       0             0.0   \n",
       "4                  0  23.71        0                0       0            28.0   \n",
       "...              ...    ...      ...              ...     ...             ...   \n",
       "319790             1  27.41        1                0       0             7.0   \n",
       "319791             0  29.84        1                0       0             0.0   \n",
       "319792             0  24.24        0                0       0             0.0   \n",
       "319793             0  32.81        0                0       0             0.0   \n",
       "319794             0  46.56        0                0       0             0.0   \n",
       "\n",
       "        MentalHealth  DiffWalking     Sex  AgeCategory      Race  Diabetic  \\\n",
       "0               30.0            0  Female        55-59     White         1   \n",
       "1                0.0            0  Female  80 or older     White         0   \n",
       "2               30.0            0    Male        65-69     White         1   \n",
       "3                0.0            0  Female        75-79     White         0   \n",
       "4                0.0            1  Female        40-44     White         0   \n",
       "...              ...          ...     ...          ...       ...       ...   \n",
       "319790           0.0            1    Male        60-64  Hispanic         1   \n",
       "319791           0.0            0    Male        35-39  Hispanic         0   \n",
       "319792           0.0            0  Female        45-49  Hispanic         0   \n",
       "319793           0.0            0  Female        25-29  Hispanic         0   \n",
       "319794           0.0            0  Female  80 or older  Hispanic         0   \n",
       "\n",
       "        PhysicalActivity  GenHealth  SleepTime  Asthma  KidneyDisease  \\\n",
       "0                      1  Very good        5.0       1              0   \n",
       "1                      1  Very good        7.0       0              0   \n",
       "2                      1       Fair        8.0       1              0   \n",
       "3                      0       Good        6.0       0              0   \n",
       "4                      1  Very good        8.0       0              0   \n",
       "...                  ...        ...        ...     ...            ...   \n",
       "319790                 0       Fair        6.0       1              0   \n",
       "319791                 1  Very good        5.0       1              0   \n",
       "319792                 1       Good        6.0       0              0   \n",
       "319793                 0       Good       12.0       0              0   \n",
       "319794                 1       Good        8.0       0              0   \n",
       "\n",
       "        SkinCancer  \n",
       "0                1  \n",
       "1                0  \n",
       "2                0  \n",
       "3                1  \n",
       "4                0  \n",
       "...            ...  \n",
       "319790           0  \n",
       "319791           0  \n",
       "319792           0  \n",
       "319793           0  \n",
       "319794           0  \n",
       "\n",
       "[319795 rows x 18 columns]"
      ]
     },
     "execution_count": 33,
     "metadata": {},
     "output_type": "execute_result"
    }
   ],
   "source": [
    "heart_df = heart_df.replace({'Yes': 1, 'No':0, 'No, borderline diabetes': 0, 'Yes (during pregnancy)': 1})\n",
    "heart_df\n"
   ]
  },
  {
   "cell_type": "markdown",
   "id": "51a120af",
   "metadata": {},
   "source": [
    "### Is there a relationship between heart disease and BMI?"
   ]
  },
  {
   "cell_type": "markdown",
   "id": "9838489e",
   "metadata": {},
   "source": [
    "Body Mass Index (BMI) refers to the measure of body fat based on an individual's weight and height. It has four different categories: underweight, normal weight, overweight, and obesity. People with BMIs that are <18.5 are considered underweight, while an index between 18.5-24.9 fall under normal weight. On the other hand, values from 25-29.9 would fall under overweight. Lastly, a BMI of 30 or greater would fall under obesity."
   ]
  },
  {
   "cell_type": "markdown",
   "id": "7062dc8b",
   "metadata": {},
   "source": [
    "Given this, we would like to find out if the dataset shows a relationship between heart disease and an individual's BMI."
   ]
  },
  {
   "cell_type": "markdown",
   "id": "2036b871",
   "metadata": {},
   "source": [
    "To answer this question, we must group the entire dataset accordingly."
   ]
  },
  {
   "cell_type": "code",
   "execution_count": 34,
   "id": "e5aae22e",
   "metadata": {},
   "outputs": [
    {
     "data": {
      "text/html": [
       "<div>\n",
       "<style scoped>\n",
       "    .dataframe tbody tr th:only-of-type {\n",
       "        vertical-align: middle;\n",
       "    }\n",
       "\n",
       "    .dataframe tbody tr th {\n",
       "        vertical-align: top;\n",
       "    }\n",
       "\n",
       "    .dataframe thead th {\n",
       "        text-align: right;\n",
       "    }\n",
       "</style>\n",
       "<table border=\"1\" class=\"dataframe\">\n",
       "  <thead>\n",
       "    <tr style=\"text-align: right;\">\n",
       "      <th></th>\n",
       "      <th>HeartDisease</th>\n",
       "      <th>BMI</th>\n",
       "    </tr>\n",
       "  </thead>\n",
       "  <tbody>\n",
       "    <tr>\n",
       "      <th>0</th>\n",
       "      <td>0</td>\n",
       "      <td>16.60</td>\n",
       "    </tr>\n",
       "    <tr>\n",
       "      <th>1</th>\n",
       "      <td>0</td>\n",
       "      <td>20.34</td>\n",
       "    </tr>\n",
       "    <tr>\n",
       "      <th>2</th>\n",
       "      <td>0</td>\n",
       "      <td>26.58</td>\n",
       "    </tr>\n",
       "    <tr>\n",
       "      <th>3</th>\n",
       "      <td>0</td>\n",
       "      <td>24.21</td>\n",
       "    </tr>\n",
       "    <tr>\n",
       "      <th>4</th>\n",
       "      <td>0</td>\n",
       "      <td>23.71</td>\n",
       "    </tr>\n",
       "    <tr>\n",
       "      <th>...</th>\n",
       "      <td>...</td>\n",
       "      <td>...</td>\n",
       "    </tr>\n",
       "    <tr>\n",
       "      <th>319790</th>\n",
       "      <td>1</td>\n",
       "      <td>27.41</td>\n",
       "    </tr>\n",
       "    <tr>\n",
       "      <th>319791</th>\n",
       "      <td>0</td>\n",
       "      <td>29.84</td>\n",
       "    </tr>\n",
       "    <tr>\n",
       "      <th>319792</th>\n",
       "      <td>0</td>\n",
       "      <td>24.24</td>\n",
       "    </tr>\n",
       "    <tr>\n",
       "      <th>319793</th>\n",
       "      <td>0</td>\n",
       "      <td>32.81</td>\n",
       "    </tr>\n",
       "    <tr>\n",
       "      <th>319794</th>\n",
       "      <td>0</td>\n",
       "      <td>46.56</td>\n",
       "    </tr>\n",
       "  </tbody>\n",
       "</table>\n",
       "<p>319795 rows × 2 columns</p>\n",
       "</div>"
      ],
      "text/plain": [
       "        HeartDisease    BMI\n",
       "0                  0  16.60\n",
       "1                  0  20.34\n",
       "2                  0  26.58\n",
       "3                  0  24.21\n",
       "4                  0  23.71\n",
       "...              ...    ...\n",
       "319790             1  27.41\n",
       "319791             0  29.84\n",
       "319792             0  24.24\n",
       "319793             0  32.81\n",
       "319794             0  46.56\n",
       "\n",
       "[319795 rows x 2 columns]"
      ]
     },
     "execution_count": 34,
     "metadata": {},
     "output_type": "execute_result"
    }
   ],
   "source": [
    "hd_bmi = heart_df[['HeartDisease', 'BMI']]\n",
    "hd_bmi"
   ]
  },
  {
   "cell_type": "markdown",
   "id": "0eaeaec7",
   "metadata": {},
   "source": [
    "The following segment shows the observations grouped by `HeartDisease`."
   ]
  },
  {
   "cell_type": "code",
   "execution_count": 39,
   "id": "7ee75488",
   "metadata": {},
   "outputs": [
    {
     "data": {
      "text/html": [
       "<div>\n",
       "<style scoped>\n",
       "    .dataframe tbody tr th:only-of-type {\n",
       "        vertical-align: middle;\n",
       "    }\n",
       "\n",
       "    .dataframe tbody tr th {\n",
       "        vertical-align: top;\n",
       "    }\n",
       "\n",
       "    .dataframe thead th {\n",
       "        text-align: right;\n",
       "    }\n",
       "</style>\n",
       "<table border=\"1\" class=\"dataframe\">\n",
       "  <thead>\n",
       "    <tr style=\"text-align: right;\">\n",
       "      <th></th>\n",
       "      <th>BMI</th>\n",
       "    </tr>\n",
       "    <tr>\n",
       "      <th>HeartDisease</th>\n",
       "      <th></th>\n",
       "    </tr>\n",
       "  </thead>\n",
       "  <tbody>\n",
       "    <tr>\n",
       "      <th>0</th>\n",
       "      <td>292422</td>\n",
       "    </tr>\n",
       "    <tr>\n",
       "      <th>1</th>\n",
       "      <td>27373</td>\n",
       "    </tr>\n",
       "  </tbody>\n",
       "</table>\n",
       "</div>"
      ],
      "text/plain": [
       "                 BMI\n",
       "HeartDisease        \n",
       "0             292422\n",
       "1              27373"
      ]
     },
     "execution_count": 39,
     "metadata": {},
     "output_type": "execute_result"
    }
   ],
   "source": [
    "hd_bmi.groupby('HeartDisease').count()"
   ]
  },
  {
   "cell_type": "markdown",
   "id": "5f299522",
   "metadata": {},
   "source": [
    "The correlation between the two is calculated as follows:"
   ]
  },
  {
   "cell_type": "code",
   "execution_count": 35,
   "id": "f7533062",
   "metadata": {},
   "outputs": [
    {
     "data": {
      "text/plain": [
       "PointbiserialrResult(correlation=0.05180319065574604, pvalue=6.779455039007755e-189)"
      ]
     },
     "execution_count": 35,
     "metadata": {},
     "output_type": "execute_result"
    }
   ],
   "source": [
    "stats.pointbiserialr(hd_bmi['HeartDisease'],hd_bmi['BMI'])"
   ]
  },
  {
   "cell_type": "markdown",
   "id": "12371ae8",
   "metadata": {},
   "source": [
    "Since the variables `HeartDisease` and `BMI` are binary and continuous variables respectively, the point biserial correlation was used. Similar to other correlation coefficients, the point biserial correlation coefficient result varies between -1 and +1, with a value of 0 implying no correlation. Moreover, the resulting coefficient is mathematically equivalent to the Pearson's correlation coefficient. This can be seen in the following code segment."
   ]
  },
  {
   "cell_type": "code",
   "execution_count": 36,
   "id": "ed7b48d5",
   "metadata": {},
   "outputs": [
    {
     "data": {
      "text/html": [
       "<div>\n",
       "<style scoped>\n",
       "    .dataframe tbody tr th:only-of-type {\n",
       "        vertical-align: middle;\n",
       "    }\n",
       "\n",
       "    .dataframe tbody tr th {\n",
       "        vertical-align: top;\n",
       "    }\n",
       "\n",
       "    .dataframe thead th {\n",
       "        text-align: right;\n",
       "    }\n",
       "</style>\n",
       "<table border=\"1\" class=\"dataframe\">\n",
       "  <thead>\n",
       "    <tr style=\"text-align: right;\">\n",
       "      <th></th>\n",
       "      <th>HeartDisease</th>\n",
       "      <th>BMI</th>\n",
       "    </tr>\n",
       "  </thead>\n",
       "  <tbody>\n",
       "    <tr>\n",
       "      <th>HeartDisease</th>\n",
       "      <td>1.000000</td>\n",
       "      <td>0.051803</td>\n",
       "    </tr>\n",
       "    <tr>\n",
       "      <th>BMI</th>\n",
       "      <td>0.051803</td>\n",
       "      <td>1.000000</td>\n",
       "    </tr>\n",
       "  </tbody>\n",
       "</table>\n",
       "</div>"
      ],
      "text/plain": [
       "              HeartDisease       BMI\n",
       "HeartDisease      1.000000  0.051803\n",
       "BMI               0.051803  1.000000"
      ]
     },
     "execution_count": 36,
     "metadata": {},
     "output_type": "execute_result"
    }
   ],
   "source": [
    "hd_bmi.corr()"
   ]
  },
  {
   "cell_type": "markdown",
   "id": "38d875c2",
   "metadata": {},
   "source": [
    "The calculated correlation between the two variables is **0.0518**. From the result, the two variables are positively correlated. However, the r-value suggests a very weak relationship between the two variables. "
   ]
  },
  {
   "cell_type": "markdown",
   "id": "32ed3a4e",
   "metadata": {},
   "source": [
    "To visualize the data, the following histogram plots the frequency of numerical data across the two variables:"
   ]
  },
  {
   "cell_type": "code",
   "execution_count": 37,
   "id": "47ce5573",
   "metadata": {},
   "outputs": [
    {
     "data": {
      "text/plain": [
       "Text(0.5, 0, 'BMI')"
      ]
     },
     "execution_count": 37,
     "metadata": {},
     "output_type": "execute_result"
    },
    {
     "data": {
      "image/png": "[encoded data removed]",
      "text/plain": [
       "<Figure size 432x288 with 1 Axes>"
      ]
     },
     "metadata": {
      "needs_background": "light"
     },
     "output_type": "display_data"
    }
   ],
   "source": [
    "pd.DataFrame({'Without Heart Disease': hd_bmi.groupby('HeartDisease').get_group(0).BMI,\n",
    "              'With Heart Disease':   hd_bmi.groupby('HeartDisease').get_group(1).BMI}).plot.hist(bins=50, stacked=True)\n",
    "plt.title('BMI')\n",
    "plt.xlabel('BMI')"
   ]
  },
  {
   "cell_type": "markdown",
   "id": "a3ad4aa8",
   "metadata": {},
   "source": [
    "Based on the visualization above, it can be observed that the distribution is positively skewed. The histogram also shows that people with heart disease have more observations than those without heart disease, especially around the higher BMI ranges. Although this result may be skewed by the disproportionate number of observations from both groups."
   ]
  },
  {
   "cell_type": "markdown",
   "id": "de33272f",
   "metadata": {},
   "source": [
    "### Is there a relationship between Diabetes and Heart Disease?"
   ]
  },
  {
   "cell_type": "markdown",
   "id": "2918cccc",
   "metadata": {},
   "source": [
    "According to the World Health Organization (WHO), diabetes is classified as a chronic and metabolic diesease caused by increase of blood sugar level which may damage the heart, blood vessels, eyes, kidneys, and nerves over time. <br>"
   ]
  },
  {
   "cell_type": "markdown",
   "id": "8fe0c814",
   "metadata": {},
   "source": [
    "Our variable of interest for this EDA question will be `HeartDisease` and `Diabetic`, therefore we will acquire the columns of the two in the dataframe and group them by the presence of diabetes:"
   ]
  },
  {
   "cell_type": "code",
   "execution_count": null,
   "id": "11c268e2",
   "metadata": {},
   "outputs": [],
   "source": [
    "hd_diabetic = heart_df.groupby('Diabetic')['HeartDisease'].value_counts()\n",
    "diabetic_df = pd.DataFrame([hd_diabetic[0], hd_diabetic[1]], index=['Not diabetic', 'Diabetic']).transpose()\n",
    "diabetic_df\n"
   ]
  },
  {
   "cell_type": "markdown",
   "id": "b35a319b",
   "metadata": {},
   "source": [
    "We visualize the relationship of the 2 variables via bar graph:"
   ]
  },
  {
   "cell_type": "code",
   "execution_count": null,
   "id": "d210ee0a",
   "metadata": {},
   "outputs": [],
   "source": [
    "diabetic_df.plot.bar()\n",
    "\n",
    "plt.xlabel('Heart Disease')\n",
    "plt.ylabel('Count')\n"
   ]
  },
  {
   "cell_type": "code",
   "execution_count": null,
   "id": "3823fcf0",
   "metadata": {},
   "outputs": [],
   "source": [
    "heart_df['Diabetic'].value_counts()"
   ]
  },
  {
   "cell_type": "markdown",
   "id": "8539a301",
   "metadata": {},
   "source": [
    "Since there is a great difference between the number of diabetic and non-diabetic respondents, we analyze the relationship by observing the proportionality of respondents with no diabetes but with heart disease and those that have diabetes and heart disease:"
   ]
  },
  {
   "cell_type": "code",
   "execution_count": null,
   "id": "c44ec848",
   "metadata": {},
   "outputs": [],
   "source": [
    "non_diabetic_df = heart_df[heart_df['Diabetic'] == 0]\n",
    "no_diabetes_no_hd = non_diabetic_df[non_diabetic_df ['HeartDisease']==0].shape[0]\n",
    "no_diabetes_with_hd = non_diabetic_df[non_diabetic_df ['HeartDisease']==1].shape[0]\n",
    "\n",
    "with_diabetic_df = heart_df[heart_df['Diabetic'] == 1]\n",
    "with_diabetes_no_hd = with_diabetic_df[with_diabetic_df ['HeartDisease']==0].shape[0]\n",
    "with_diabetes_with_hd = with_diabetic_df[with_diabetic_df ['HeartDisease']==1].shape[0]"
   ]
  },
  {
   "cell_type": "code",
   "execution_count": null,
   "id": "2d68f6ef",
   "metadata": {},
   "outputs": [],
   "source": [
    "print('No diabetes and no Heart Disease:', no_diabetes_no_hd)\n",
    "print('No diabetes but with Heart Disease:', no_diabetes_with_hd, '\\n')\n",
    "\n",
    "print('Diabetic with no Heart Disease', with_diabetes_no_hd)\n",
    "print('Diabetic with Heart Disease', with_diabetes_with_hd, '\\n')\n",
    "\n",
    "print('Percentage of no diabetes but with Heart Disease: {:.2f}%'.format(no_diabetes_with_hd/non_diabetic_df.shape[0] * 100))\n",
    "print('Percentage of diabetic with Heart Disease: {:.2f}%'.format(with_diabetes_with_hd/with_diabetic_df.shape[0] * 100))"
   ]
  },
  {
   "cell_type": "markdown",
   "id": "8a5d09c7",
   "metadata": {},
   "source": [
    "based from the computed proportion, respondents who are diabetic are more prone to having a heart disease as compared to those without diabetes. To further establish the correlation between diabetes and heart disease, we will use the Chi-Square test as means to inference the categorical data."
   ]
  },
  {
   "cell_type": "code",
   "execution_count": null,
   "id": "012f6e80",
   "metadata": {},
   "outputs": [],
   "source": [
    "chi2_contingency(diabetic_df, correction=True)"
   ]
  },
  {
   "cell_type": "markdown",
   "id": "85963b4b",
   "metadata": {},
   "source": [
    "The result of the chi2_contingency() shows that the p-value is less than the significance levels of 0.01, 0.05 and 0.10. Therefore, there is a significant correlation between diabetes and heart disease."
   ]
  },
  {
   "cell_type": "markdown",
   "id": "b4749141-f6e7-43d0-a388-6e9b5cfb734c",
   "metadata": {},
   "source": [
    "### Is there a relationship between Smoking and Heart Disease?"
   ]
  },
  {
   "cell_type": "markdown",
   "id": "b06559fb-2fcd-4391-bcc4-43bac7662114",
   "metadata": {},
   "source": [
    "In this Dataset, the variable 'Smoking' refers to whether the respondent has smoked a hundred cigarettes or more in their lives or not, which, according to data set, is generally 5 packs.\n",
    "\n",
    "With this in mind, we would like to figure out if a respondent is more likely to catch a Heart Disease if they have smoked at least a hundred cigarettes. And to do that, we must analyze the relationship between the two variables."
   ]
  },
  {
   "cell_type": "code",
   "execution_count": null,
   "id": "46ac1a96",
   "metadata": {},
   "outputs": [],
   "source": [
    "temp = heart_df.groupby('Smoking')['HeartDisease'].value_counts()\n",
    "table = pd.DataFrame([temp[0], temp[1]], index=['Does not Smoke', 'Smokes']).transpose()\n",
    "table"
   ]
  },
  {
   "cell_type": "code",
   "execution_count": null,
   "id": "be3cd164-4b81-404b-b7f7-b61a18d18b55",
   "metadata": {},
   "outputs": [],
   "source": [
    "table.plot.bar()"
   ]
  },
  {
   "cell_type": "markdown",
   "id": "d4fc72b7-c455-4fdd-8919-b2116ae1bca3",
   "metadata": {},
   "source": [
    "From the graph, it can be seen that, when it comes to people without Heart Diseases, there are more non-smokers than there are smokers. However, given that the total number of respondents are different:"
   ]
  },
  {
   "cell_type": "code",
   "execution_count": null,
   "id": "f68ed4b4-2f17-4bc1-81f5-ca35e18c46cf",
   "metadata": {},
   "outputs": [],
   "source": [
    "heart_df['Smoking'].value_counts()"
   ]
  },
  {
   "cell_type": "markdown",
   "id": "dcc92271-64f8-4fda-881a-f35170521adc",
   "metadata": {},
   "source": [
    "There are more non-smokers than there are smokers, so the bar graph may be too misleading to perform a proper analysis simply based on the visualization. We can further assess the relationship by looking into the percentages:"
   ]
  },
  {
   "cell_type": "code",
   "execution_count": null,
   "id": "0c1f2d97-81be-47f8-ae93-ee3da9ae5cb8",
   "metadata": {},
   "outputs": [],
   "source": [
    "non_smoking_df = heart_df[heart_df['Smoking'] == 0]\n",
    "non_smoking_no_disease = non_smoking_df[non_smoking_df['HeartDisease']==0].shape[0]\n",
    "non_smoking_with_disease = non_smoking_df[non_smoking_df['HeartDisease']==1].shape[0]\n",
    "\n",
    "smoking_df = heart_df[heart_df['Smoking'] == 1]\n",
    "smoking_no_disease = non_smoking_df[non_smoking_df['HeartDisease']==0].shape[0]\n",
    "smoking_with_disease = non_smoking_df[non_smoking_df['HeartDisease']==1].shape[0]\n",
    "\n",
    "print('Non-smokers with no Heart Disease:', non_smoking_no_disease)\n",
    "print('Non-smokers with Heart Disease:', non_smoking_with_disease, '\\n')\n",
    "\n",
    "print('Smokers with no Heart Disease:', smoking_no_disease)\n",
    "print('Smokers with no Heart Disease:', smoking_with_disease, '\\n')\n",
    "\n",
    "print('Percentage of non-smokers with Heart Disease: {:.2f}%'.format(non_smoking_with_disease/non_smoking_df.shape[0] * 100))\n",
    "print('Percentage of smokers with Heart Disease: {:.2f}%'.format(smoking_with_disease/smoking_df.shape[0] * 100))"
   ]
  },
  {
   "cell_type": "markdown",
   "id": "fc6099fc-4d0a-4010-8986-5b85fde0cbe0",
   "metadata": {},
   "source": [
    "As seen above, when taking proportion and percentages into account, the percentage of smokers with a Heart Disease is higher than the percentage of the non-smokers with a Heart Disease. With that, one final measure must be taken to make sure that there is actually a correlation, which is Pearson's Chi-Squared Test, a test meant to find the correlation between two categorical variables."
   ]
  },
  {
   "cell_type": "code",
   "execution_count": null,
   "id": "cb6f557c-a78e-40c9-8c33-2e4e79d447f8",
   "metadata": {},
   "outputs": [],
   "source": [
    "chi2_contingency(table, correction=True)"
   ]
  },
  {
   "cell_type": "markdown",
   "id": "2699ae61-866c-4c13-9c07-7e99526cf449",
   "metadata": {},
   "source": [
    "Though the function reports a p-score of 0.0, in reality, it is an approximation because the actual value is very small. Because of the small p-value and the high chi-statistic value (which is higher than the critical values of 0.01 , 0.05 and 0.10), it can be concluded that, there is a correlation between the two variables, HeartDisease and Smoking, at the significance levels of 0.01, 0.05 and 0.10."
   ]
  },
  {
   "cell_type": "markdown",
   "id": "9275a5d8",
   "metadata": {},
   "source": [
    "## Formulated Research Question"
   ]
  },
  {
   "cell_type": "markdown",
   "id": "89e3dd12",
   "metadata": {},
   "source": [
    "Our exploratory data analysis has only tackled 3 of the 17 variables that can be measured on how much impact it has to an individual's risk of having a heart disease. It can be seen that certain health conditions and lifestyles may indicate or form a pattern that can lead to having the said health concern.Thus, our research aims to identify and answer the question:\n",
    "\n",
    "**Which variables have a significant effect on the likelihood of heart disease?**\n",
    "\n",
    "In the context of the Philippines, heart disease continues to be a top cause of death among Filipinos during 2021 even in times of the Covid-19 pandemic. The Philippine Statistics Authority reported that 125,913 (17.9%) of the deaths during the pandemic died because of ischemic heart disease. Ranked after heart disease are: cerebrovascular disease (68,180 or 9.7%) and the Covid-19 virus (8,390 or 1.5%) (Kabagani, 2022). \n",
    "\n",
    "The World Health Organization (2021) has identified several risk factors of heart disease which are unhealthy eating habits, physical inactivity, tobacco usage, and excessive alcohol intake. Some of the mentioned risk factors are already present in the dataset, thus, the main goal for this research is to validate these claims through the given dataset and find other features that are potential risk factors."
   ]
  },
  {
   "cell_type": "markdown",
   "id": "6eab0b38",
   "metadata": {},
   "source": [
    "### References\n",
    "Kabagani, L..(2022, February 23). Heart disease remains top cause of death in PH in 2021: PSA. Retrieved from: https://www.pna.gov.ph/articles/1168439<br>\n",
    "\n",
    "World Health Organization. (2021). Cardiovascular diseases (CVDs). World Health Organization. Retrieved from: https://www.who.int/news-room/fact-sheets/detail/cardiovascular-diseases-(cvds) <br>"
   ]
  },
  {
   "cell_type": "markdown",
   "id": "ab037655",
   "metadata": {},
   "source": []
  }
 ],
 "metadata": {
  "kernelspec": {
   "display_name": "Python 3 (ipykernel)",
   "language": "python",
   "name": "python3"
  },
  "language_info": {
   "codemirror_mode": {
    "name": "ipython",
    "version": 3
   },
   "file_extension": ".py",
   "mimetype": "text/x-python",
   "name": "python",
   "nbconvert_exporter": "python",
   "pygments_lexer": "ipython3",
   "version": "3.9.12"
  },
  "vscode": {
   "interpreter": {
    "hash": "b8a51368b5ff329dd852b0e811c969ee043b9d9f48a913e40e8e5735e651ca04"
   }
  }
 },
 "nbformat": 4,
 "nbformat_minor": 5
}
